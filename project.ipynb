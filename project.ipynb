{
 "cells": [
  {
   "cell_type": "markdown",
   "metadata": {},
   "source": [
    "# How high of an incentive (measured through differences in overall GPA) do students face by enrolling in classes with relatively higher grade distributions?\n",
    "\n",
    "\n",
    "## Diego Saldonid, PID: A12012095\n",
    "## Roger Ruan, PID: A11186574\n",
    "## Shu-Wei(Lucas) Hsu, PID: A12961177\n",
    "## James Mata, PID: A12462782\n"
   ]
  },
  {
   "cell_type": "markdown",
   "metadata": {},
   "source": [
    "## Introduction and Background\n",
    "\n",
    "With grade inflation becoming a growing problem between public and private school we were interested in taking a closer look to see what may be happening within a school. As students, we often hear advice on which professor to take for a certain class because the chances of getting a good grade are higher. For many students at UCSD, who plan to pursue careers that involve more education or careers in their subject’s job market, GPA is an important factor to look competitive in these fields. This leads students to wait for a class to be taught by a certain professor in order to boost their transcripts and have a higher chance at success. This leads us to our questions: \n",
    "\n",
    "* **What would be the difference in GPA between students that happen to take professors with lower grade distributions relative to their fellow professors?**\n",
    "* **If we are able to find a large enough disparity between these students, what would be our call to action?**\n",
    "* **Furthermore, what might this reflect on the way classes are being taught, not only at UCSD but at other Universities?**\n",
    "\n",
    "As our reference allude to, just because they are getting higher grades does not imply that students are performing higher or learning more. The growing competition to get into medical school, grad school, or other competitive career fields incentives students to pursue a higher grade over leaving college with technical skills and knowledge. Also, are the classes with higher distribution, are they not challenging students as much or do they provide a better teaching environment?\n",
    "\n"
   ]
  },
  {
   "cell_type": "markdown",
   "metadata": {},
   "source": [
    "## Data Description\n",
    "\n",
    "The dataset used for our project is the UCSD Cape Evaluations, found at https://cape.ucsd.edu/responses/Results.aspx. This dataset has grade distributions for various classes among multiple disciplines at UCSD from Spring quarter 2007 to Spring Quarter 2017. We will be focusing on the following select majors: \n",
    "\n",
    "* Cognitive Science\n",
    "* Biology\n",
    "* Biochemistry\n",
    "* Mechnical and Aerospace Engineering\n",
    "* Chemistry\n",
    "* Computer Science\n",
    "    \n",
    "From these majors, we will be analyzing required major courses.\n",
    "\n",
    "Each data row has the following columns: \n",
    "\n",
    "* Professor/Instructor\n",
    "* Course\n",
    "* Term\n",
    "* Number of Enrollment\n",
    "* Number of Evaluations Made\n",
    "* Recommended Class\n",
    "* Recommended Instructor\n",
    "* Study Hours/week\n",
    "* Average Grade Expected\n",
    "* Average Grade Received\n",
    "\n",
    "After cleaning our data, we will be focusing on Instructor, Course, Term, Rcmnd Instr, Study Hrs/wk, and Avg Grade Received.\n",
    "\n",
    "By comparing different students across different professors taken at different times we will be able to analyze any changes between professors as well as pick up on any trends that are happening within a certain department. By tracking the changes across multiple departments (to have an accurate representation of what is happening campus wide) we can compare how changes at UCSD agree or disagree with national trends. We will also compare the amount of study hours between the courses taught by professors of the same department, this will serve as an indicator on how rigorous classes may be, which may point to the differences in grade distributions.\n",
    "\n",
    "After scraping the data, we disregard ones with NaN rows and data where the number of evaluations made for the class is under 40%."
   ]
  },
  {
   "cell_type": "markdown",
   "metadata": {},
   "source": [
    "Loading modules. We are using the beautiful soup library to scrap through different categories that are given with evaluations."
   ]
  },
  {
   "cell_type": "code",
   "execution_count": 131,
   "metadata": {
    "collapsed": false
   },
   "outputs": [],
   "source": [
    "import ssl\n",
    "import urllib.request\n",
    "import pandas as pd\n",
    "import numpy as np\n",
    "from bs4 import BeautifulSoup\n",
    "from urllib.request import urlopen\n",
    "import numpy as np\n",
    "import matplotlib.pyplot as plt\n",
    "import math"
   ]
  },
  {
   "cell_type": "markdown",
   "metadata": {},
   "source": [
    "Here, we are setting up the dataframe for the data we are going to scrap. We create a function called scrapData that goes through the online dataset with a specified major and extract the data onto our dataframe. We create a variable of the column values and then create a dataframe using the implemented column variables. "
   ]
  },
  {
   "cell_type": "code",
   "execution_count": 87,
   "metadata": {
    "collapsed": false,
    "scrolled": false
   },
   "outputs": [],
   "source": [
    "#all courses\n",
    "def scrapData(links, i, dfT):\n",
    "    gcontext = ssl.SSLContext(ssl.PROTOCOL_TLSv1)\n",
    "    req = urllib.request.Request(url=\"https://cape.ucsd.edu/responses/Results.aspx?Name=&CourseNumber=\" + links[i],\n",
    "        data=b'None',headers={'User-Agent':' Mozilla/5.0 (Windows NT 6.1; WOW64; rv:12.0) Gecko/20100101 Firefox/12.0'})\n",
    "    handler = urllib.request.urlopen(req, context=gcontext)\n",
    "    htmltext = handler.read()\n",
    "    soup = BeautifulSoup(htmltext,'lxml')\n",
    "\n",
    "    # Create four variables to score the scraped data in\n",
    "    Name = []\n",
    "    course = []\n",
    "    rcmndClass = []\n",
    "    term = []\n",
    "    enroll = []\n",
    "    evalMade = []\n",
    "    rcmndInstructor = []\n",
    "    studyHrs = []\n",
    "    avgGradeExpected = []\n",
    "    avgGradeRecieved = []\n",
    "\n",
    "    # Create an object of the first object that is class=dataframe\n",
    "    table = soup.find(class_='styled')\n",
    "\n",
    "    # Find all the <tr> tag pairs, skip the first one, then for each.\n",
    "    for row in table.find_all('tr')[1:]:\n",
    "\n",
    "        spans = row.find_all('span')\n",
    "        a = row.find_all('a')\n",
    "\n",
    "        # Create a variable of all the <td> tag pairs in each <tr> tag pair,\n",
    "        col = row.find_all('td')\n",
    "\n",
    "        # Create a variable of the string inside 1st <td> tag pair,\n",
    "        column_1 = col[0].string\n",
    "        # and append it to first_name variable\n",
    "        Name.append(column_1)\n",
    "\n",
    "        #find class name\n",
    "        column_10 = a[0].text\n",
    "        course.append(column_10)\n",
    "\n",
    "        # Create a variable of the string inside 2nd <td> tag pair,\n",
    "        column_2 = spans[1].text\n",
    "        # and append it to last_name variable\n",
    "        rcmndClass.append(column_2)\n",
    "\n",
    "        # Create a variable of the string inside 3rd <td> tag pair,\n",
    "        column_3 = col[2].string\n",
    "        # and append it to age variable\n",
    "        term.append(column_3)\n",
    "\n",
    "        # Create a variable of the string inside 4th <td> tag pair,\n",
    "        column_4 = col[3].text\n",
    "        # and append it to enroll variable\n",
    "        enroll.append(column_4)\n",
    "\n",
    "        # Create a variable of the string inside 5th <td> tag pair,\n",
    "        column_5 = spans[0].text\n",
    "        # and append it to postTestScore variable\n",
    "        evalMade.append(column_5)\n",
    "\n",
    "        column_6 = spans[2].text\n",
    "        rcmndInstructor.append(column_6)\n",
    "\n",
    "        column_7 = spans[3].text\n",
    "        studyHrs.append(column_7)\n",
    "\n",
    "        column_8 = spans[4].text\n",
    "        avgGradeExpected.append(column_8)\n",
    "\n",
    "        column_9 = spans[5].text\n",
    "        avgGradeRecieved.append(column_9)\n",
    "\n",
    "    # Create a variable of the value of the columns\n",
    "    columns = {'Name': Name, 'rcmndClass': rcmndClass, 'term': term, 'enroll': enroll, 'evalMade': evalMade, \n",
    "               'rcmndInstructor':rcmndInstructor, 'studyHrs':studyHrs, 'avgGradeExpected':avgGradeExpected \n",
    "               ,'avgGradeRecieved':avgGradeRecieved, 'course':course}\n",
    "\n",
    "    # Create a dataframe from the columns variable\n",
    "    df = pd.DataFrame(columns)\n",
    "    df = df[['Name', 'course','term', 'enroll', 'evalMade', 'rcmndClass', 'rcmndInstructor','studyHrs', \n",
    "             'avgGradeExpected', 'avgGradeRecieved' ]]\n",
    "    return df"
   ]
  },
  {
   "cell_type": "markdown",
   "metadata": {},
   "source": [
    "Right now, we're focusing on data relating to the cogs major and the core classes needed. \n",
    "**We will do so for other majors(Cognitive Science, Biology, Biochemistry, Mechnical and Aerospace Engineering, Chemistry, Computer Science) as well!**\n",
    "We extract the data for the cogs major by scraping the data for each required course and the different professors that teach each course. We fill our dataframe using the scrapData function created above to give us raw data. "
   ]
  },
  {
   "cell_type": "code",
   "execution_count": 88,
   "metadata": {
    "collapsed": false
   },
   "outputs": [],
   "source": [
    "#links = ['MATH+20B', 'MATH+20A']\n",
    "cogsMajor = ['MATH+20A', 'MATH+20B','MATH+20C','MATH+20F','COGS+1','COGS+14A',\n",
    "             'COGS+101A','COGS+102A','COGS+107A','CSE+7']\n",
    "dfTemp = pd.DataFrame()\n",
    "dfT = pd.DataFrame();\n",
    "for i in range(len(cogsMajor)):\n",
    "    dfTemp = scrapData(cogsMajor,i, dfT)\n",
    "    dfT = dfT.append(dfTemp)"
   ]
  },
  {
   "cell_type": "markdown",
   "metadata": {},
   "source": [
    "## Data Cleaning/Pre-processing\n",
    "\n",
    "The data we got above is raw data. We have to clean it now by omitting rows where the grade is not available. To make sure the data points hold significance, we remove rows where the number of evaluations made is less than 40%. This allows a more accurate representation of grade distribution among students. \n",
    "\n"
   ]
  },
  {
   "cell_type": "code",
   "execution_count": 89,
   "metadata": {
    "collapsed": false,
    "scrolled": true
   },
   "outputs": [],
   "source": [
    "#converts the strings from enroll and evalMade to int\n",
    "dfT.enroll = pd.to_numeric(dfT.enroll)\n",
    "dfT.evalMade = pd.to_numeric(dfT.evalMade)\n",
    "#drops classes with N/a grade distributions \n",
    "dfT = dfT[dfT.avgGradeRecieved != 'N/A'] \n",
    "#drops classes with less than 40% evals made\n",
    "dfT = dfT[dfT.evalMade/dfT.enroll > .40]\n",
    "dfT = dfT.reset_index(drop=True)"
   ]
  },
  {
   "cell_type": "markdown",
   "metadata": {},
   "source": [
    "## Data Analysis and Results\n",
    "\n",
    "With this data we will be able to track changes in student GPA for the last ten years. We will compare changes in GPA across departments, we can see if UCSD follows national trends while keeping our datapool campus wide. Comparing study hours bewteen the courses taught by professors of the same department allows us to analyze study methods as a descrepency. Ultimately, we are looking to see if students who take professors with higher grade distributions and students who take professors with lower grade distributions and see how much of an impact the difference in professors have on students' overall GPA."
   ]
  },
  {
   "cell_type": "code",
   "execution_count": 132,
   "metadata": {
    "collapsed": true
   },
   "outputs": [],
   "source": [
    "#initialize maximum possible GPA\n",
    "maxGpa = []\n",
    "minGpa = []"
   ]
  },
  {
   "cell_type": "code",
   "execution_count": 133,
   "metadata": {
    "collapsed": false
   },
   "outputs": [],
   "source": [
    "#mathCourse = ['MATH+20A']\n",
    "def gpaValue (classes, i, df):\n",
    "    #math20A = scrapData(mathCourse,0, df)\n",
    "    #course = math20A\n",
    "    course = scrapData(classes,i, df)\n",
    "    course.enroll = pd.to_numeric(course.enroll)\n",
    "    course.evalMade = pd.to_numeric(course.evalMade)\n",
    "    course = course[course.avgGradeRecieved != 'N/A'] \n",
    "    #drops classes with less than 40% evals made\n",
    "    course = course[course.evalMade/course.enroll > .40]\n",
    "    #reset index\n",
    "    course = course.reset_index(drop=True)\n",
    "\n",
    "\n",
    "    for k in range(len(course['avgGradeRecieved'])):\n",
    "        x = course['avgGradeRecieved'][k]\n",
    "        #split string in order to get rid of letters\n",
    "        x = x.split(\"(\")[1]\n",
    "        x = x.split(')')[0]\n",
    "        #set value to only number\n",
    "        course.loc[k,('avgGradeRecieved')] = x\n",
    "\n",
    "    #set to numeric value\n",
    "    course.avgGradeRecieved = pd.to_numeric(course.avgGradeRecieved)\n",
    "\n",
    "    #get the maximum value\n",
    "    rowMax = course['avgGradeRecieved'].idxmax()\n",
    "    rowMin = course['avgGradeRecieved'].idxmin()\n",
    "\n",
    "    #get the GPA and format it in hundreds\n",
    "    maxGpa.append(math.ceil((course['avgGradeRecieved'][rowMax])*100)/100)\n",
    "    minGpa.append(math.ceil((course['avgGradeRecieved'][rowMin])*100)/100)\n"
   ]
  },
  {
   "cell_type": "code",
   "execution_count": 209,
   "metadata": {
    "collapsed": false
   },
   "outputs": [],
   "source": [
    "#get gpa values for all classes\n",
    "df_1 = pd.DataFrame();\n",
    "for i in range(len(cogsMajor)):\n",
    "    gpaValue(cogsMajor, i, df_1)"
   ]
  },
  {
   "cell_type": "code",
   "execution_count": 208,
   "metadata": {
    "collapsed": false
   },
   "outputs": [],
   "source": [
    "#make it as a dataFrame for further use\n",
    "gpaStats = pd.DataFrame(\n",
    "    {'course': cogsMajor,\n",
    "     'maxGpa': maxGpa,\n",
    "     'minGpa': minGpa\n",
    "    })"
   ]
  },
  {
   "cell_type": "code",
   "execution_count": 191,
   "metadata": {
    "collapsed": false
   },
   "outputs": [
    {
     "data": {
      "image/png": "[encoded data removed]",
      "text/plain": [
       "<matplotlib.figure.Figure at 0x115b3eb70>"
      ]
     },
     "metadata": {},
     "output_type": "display_data"
    }
   ],
   "source": [
    "# Setting the positions and width for the bars\n",
    "pos = list(range(len(gpaStats['course'])))\n",
    "width = 0.3\n",
    "\n",
    "# Plotting the bars\n",
    "fig, ax = plt.subplots(figsize=(20,7))\n",
    "\n",
    "# Create a bar with gpa data,\n",
    "# in position pos,\n",
    "plt.bar(pos,\n",
    "        #using df['pre_score'] data,\n",
    "        gpaStats['maxGpa'],\n",
    "        # of width\n",
    "        width,\n",
    "        # with alpha 0.5\n",
    "        alpha=0.5,\n",
    "        # with color\n",
    "        color='#EE3224',\n",
    "        # with label the first value in first_name\n",
    "        label=gpaStats['course'][0])\n",
    "\n",
    "# Create a bar with mid_score data,\n",
    "# in position pos + some width buffer,\n",
    "plt.bar([p + width for p in pos],\n",
    "        #using df['mid_score'] data,\n",
    "        gpaStats['minGpa'],\n",
    "        # of width\n",
    "        width,\n",
    "        # with alpha 0.5\n",
    "        alpha=0.5,\n",
    "        # with color\n",
    "        color='#F78F1E',\n",
    "        # with label the second value in first_name\n",
    "        label=gpaStats['course'][1])\n",
    "\n",
    "# Set the y axis label\n",
    "ax.set_ylabel('GPA')\n",
    "\n",
    "# Set the chart's title\n",
    "ax.set_title('Course GPA')\n",
    "\n",
    "# Set the position of the x ticks\n",
    "ax.set_xticks([p + 0.7 * width for p in pos])\n",
    "\n",
    "# Set the labels for the x ticks\n",
    "ax.set_xticklabels(gpaStats['course'])\n",
    "\n",
    "# Setting the x-axis and y-axis limits\n",
    "plt.xlim(min(pos)-width, max(pos)+width*4)\n",
    "plt.ylim([0, max(gpaStats['maxGpa'] + gpaStats['minGpa'])] )\n",
    "\n",
    "rects = ax.patches\n",
    "\n",
    "#add number labels\n",
    "for rect, label in zip(rects, gpaStats.maxGpa):\n",
    "    height = rect.get_height()\n",
    "    ax.text(rect.get_x() + rect.get_width()/2, height + 0.2, label, ha='center', va='bottom')\n",
    "\n",
    "rects = ax.patches\n",
    "for rect, label in zip(rects, gpaStats.minGpa):\n",
    "    height = rect.get_height()\n",
    "    ax.text(rect.get_x() + rect.get_width()/2 + 0.3, height - 0.4 , label, ha='center', va='bottom')\n",
    "\n",
    "# Adding the legend and showing the plot\n",
    "plt.legend(['maxGpa', 'minGpa'], loc='upper left')\n",
    "plt.grid()\n",
    "plt.show()"
   ]
  },
  {
   "cell_type": "code",
   "execution_count": 240,
   "metadata": {
    "collapsed": false
   },
   "outputs": [
    {
     "data": {
      "image/png": "[encoded data removed]",
      "text/plain": [
       "<matplotlib.figure.Figure at 0x11564fa20>"
      ]
     },
     "metadata": {},
     "output_type": "display_data"
    }
   ],
   "source": [
    "avgMax = math.ceil(sum(maxGpa)/len(maxGpa) *100)/100\n",
    "\n",
    "\n",
    "avgMin = math.ceil(sum(minGpa)/len(minGpa) *100)/100\n",
    "\n",
    "\n",
    "comparison = [avgMax, avgMin]   # bring some raw data\n",
    "freq_series = pd.Series.from_array(comparison)   # in my original code I create a series and run on that, so for consistency I create a series from the list.\n",
    "\n",
    "x_labels = ['maxGpa' + 'minGpa']\n",
    "\n",
    "# now to plot the figure\n",
    "plt.figure(figsize=(5, 5))\n",
    "ax = freq_series.plot(kind='bar')\n",
    "plt.ylim([0, 4.5] )\n",
    "\n",
    "rects = ax.patches\n",
    "\n",
    "for rect, label in zip(rects, comparison):\n",
    "    height = rect.get_height()\n",
    "    ax.text(rect.get_x() + rect.get_width()/2, height + 0.1, label, ha='center', va='bottom')\n",
    "    \n",
    "objects = ('maxGpa', 'minGpa')\n",
    "y_pos = np.arange(len(objects))\n",
    "plt.xticks(y_pos, objects)\n",
    "plt.ylabel('Cogs Major')\n",
    "plt.title('GPA Difference')\n",
    " \n",
    "plt.show()"
   ]
  },
  {
   "cell_type": "code",
   "execution_count": null,
   "metadata": {
    "collapsed": true
   },
   "outputs": [],
   "source": []
  },
  {
   "cell_type": "code",
   "execution_count": null,
   "metadata": {
    "collapsed": true
   },
   "outputs": [],
   "source": []
  },
  {
   "cell_type": "markdown",
   "metadata": {},
   "source": [
    "## Conclusions/Discussion"
   ]
  },
  {
   "cell_type": "markdown",
   "metadata": {},
   "source": [
    "For the next few days, we aim to fully extract data from other majors and the respective required courses. After comparing data from within majors, we will compare data across majors and professors. We will have graphs displaying our data and a full analysis on how the professors who grade more strictly affect students' GPAs overall."
   ]
  }
 ],
 "metadata": {
  "kernelspec": {
   "display_name": "Python 3",
   "language": "python",
   "name": "python3"
  },
  "language_info": {
   "codemirror_mode": {
    "name": "ipython",
    "version": 3
   },
   "file_extension": ".py",
   "mimetype": "text/x-python",
   "name": "python",
   "nbconvert_exporter": "python",
   "pygments_lexer": "ipython3",
   "version": "3.6.0"
  }
 },
 "nbformat": 4,
 "nbformat_minor": 2
}
