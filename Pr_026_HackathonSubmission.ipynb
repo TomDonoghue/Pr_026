{
 "cells": [
  {
   "cell_type": "markdown",
   "metadata": {},
   "source": [
    "# How high of an incentive (measured through differences in overall GPA) do students face by enrolling in classes with relatively higher grade distributions?\n",
    "\n",
    "\n",
    "## Diego Saldonid, PID: A12012095\n",
    "## Roger Ruan, PID: A11186574\n",
    "## Shu-Wei(Lucas) Hsu, PID: A12961177\n",
    "## James Mata, PID: A12462782\n"
   ]
  },
  {
   "cell_type": "markdown",
   "metadata": {},
   "source": [
    "## Introduction and Background\n",
    "\n",
    "With grade inflation becoming a growing problem between public and private school we were interested in taking a closer look to see what may be happening within a school. As students, we often hear advice on which professor to take for a certain class because the chances of getting a good grade are higher. For many students at UCSD, who plan to pursue careers that involve more education or careers in their subject’s job market, GPA is an important factor to look competitive in these fields. This leads students to wait for a class to be taught by a certain professor in order to boost their transcripts and have a higher chance at success. This leads us to our questions: \n",
    "\n",
    "* **What would be the difference in GPA between students that happen to take professors with lower grade distributions relative to their fellow professors?**\n",
    "* **If we are able to find a large enough disparity between these students, what would be our call to action?**\n",
    "* **Furthermore, what might this reflect on the way classes are being taught, not only at UCSD but at other Universities?**\n",
    "* **How can having a different GPA significantly impact one's future career such as graduate school and job hunting?**\n",
    "\n",
    "As our reference allude to, just because they are getting higher grades does not imply that students are performing higher or learning more. The growing competition to get into medical school, grad school, or other competitive career fields incentives students to pursue a higher grade over leaving college with technical skills and knowledge. Also, are the classes with higher distribution, are they not challenging students as much or do they provide a better teaching environment?\n",
    "\n"
   ]
  },
  {
   "cell_type": "markdown",
   "metadata": {},
   "source": [
    "## Data Description\n",
    "\n",
    "The dataset used for our project is the UCSD Cape Evaluations, found at https://cape.ucsd.edu/responses/Results.aspx. This dataset has grade distributions for various classes among multiple disciplines at UCSD from Spring quarter 2007 to Spring Quarter 2017. We will be focusing on the following select majors: \n",
    "\n",
    "* Cognitive Science\n",
    "* Biology\n",
    "* Biochemistry\n",
    "* Mechnical and Aerospace Engineering\n",
    "* Chemistry\n",
    "* Computer Science\n",
    "    \n",
    "From these majors, we will be analyzing required major courses.\n",
    "\n",
    "Each data row has the following columns: \n",
    "\n",
    "* Professor/Instructor\n",
    "* Course\n",
    "* Term\n",
    "* Number of Enrollment\n",
    "* Number of Evaluations Made\n",
    "* Recommended Class\n",
    "* Recommended Instructor\n",
    "* Study Hours/week\n",
    "* Average Grade Expected\n",
    "* Average Grade Received\n",
    "\n",
    "After cleaning our data, we will be focusing on Instructor, Course, Term, Rcmnd Instr, Study Hrs/wk, and Avg Grade Received.\n",
    "\n",
    "By comparing different students across different professors taken at different times we will be able to analyze any changes between professors as well as pick up on any trends that are happening within a certain department. By tracking the changes across multiple departments (to have an accurate representation of what is happening campus wide) we can compare how changes at UCSD agree or disagree with national trends. We will also compare the amount of study hours between the courses taught by professors of the same department, this will serve as an indicator on how rigorous classes may be, which may point to the differences in grade distributions.\n",
    "\n",
    "After scraping the data, we disregard ones with NaN rows and data where the number of evaluations made for the class is under 40%."
   ]
  },
  {
   "cell_type": "markdown",
   "metadata": {},
   "source": [
    "Loading modules. We are using the beautiful soup library to scrap through different categories that are given with evaluations."
   ]
  },
  {
   "cell_type": "code",
   "execution_count": 2,
   "metadata": {
    "collapsed": false
   },
   "outputs": [],
   "source": [
    "import ssl\n",
    "import urllib.request\n",
    "import pandas as pd\n",
    "import numpy as np\n",
    "import scipy.stats as stats\n",
    "from bs4 import BeautifulSoup\n",
    "from urllib.request import urlopen\n",
    "import numpy as np\n",
    "import matplotlib.pyplot as plt\n",
    "import math"
   ]
  },
  {
   "cell_type": "markdown",
   "metadata": {},
   "source": [
    "Here, we are setting up the dataframe for the data we are going to scrap. We create a function called scrapData that goes through the online dataset with a specified major and extract the data onto our dataframe. We create a variable of the column values and then create a dataframe using the implemented column variables. "
   ]
  },
  {
   "cell_type": "code",
   "execution_count": 3,
   "metadata": {
    "collapsed": false,
    "scrolled": false
   },
   "outputs": [],
   "source": [
    "#all courses\n",
    "def scrapData(links, i, dataFrame):\n",
    "    gcontext = ssl.SSLContext(ssl.PROTOCOL_TLSv1)\n",
    "    req = urllib.request.Request(url=\"https://cape.ucsd.edu/responses/Results.aspx?Name=&CourseNumber=\" + links[i],\n",
    "        data=b'None',headers={'User-Agent':' Mozilla/5.0 (Windows NT 6.1; WOW64; rv:12.0) Gecko/20100101 Firefox/12.0'})\n",
    "    handler = urllib.request.urlopen(req, context=gcontext)\n",
    "    htmltext = handler.read()\n",
    "    soup = BeautifulSoup(htmltext,'lxml')\n",
    "\n",
    "    # Create four variables to score the scraped data in\n",
    "    Name = []\n",
    "    course = []\n",
    "    courseNum = []\n",
    "    rcmndClass = []\n",
    "    term = []\n",
    "    enroll = []\n",
    "    evalMade = []\n",
    "    rcmndInstructor = []\n",
    "    studyHrs = []\n",
    "    avgGradeExpected = []\n",
    "    avgGradeReceived = []\n",
    "\n",
    "    # Create an object of the first object that is class=dataframe\n",
    "    table = soup.find(class_='styled')\n",
    "\n",
    "    # Find all the <tr> tag pairs, skip the first one, then for each.\n",
    "    for row in table.find_all('tr')[1:]:\n",
    "\n",
    "        spans = row.find_all('span')\n",
    "        a = row.find_all('a')\n",
    "\n",
    "        # Create a variable of all the <td> tag pairs in each <tr> tag pair,\n",
    "        col = row.find_all('td')\n",
    "\n",
    "        # Create a variable of the string inside 1st <td> tag pair,\n",
    "        column_1 = col[0].string\n",
    "        # and append it to first_name variable\n",
    "        Name.append(column_1)\n",
    "\n",
    "        #find class name\n",
    "        column_10 = a[0].text\n",
    "        course.append(column_10)\n",
    "\n",
    "        column_11 = a[0].text\n",
    "        x = column_11.split(\"-\")[0]\n",
    "        x = x.split(\" \")[1]\n",
    "        courseNum.append(x)\n",
    "\n",
    "        # Create a variable of the string inside 2nd <td> tag pair,\n",
    "        column_2 = spans[1].text\n",
    "        # and append it to last_name variable\n",
    "        rcmndClass.append(column_2)\n",
    "\n",
    "        # Create a variable of the string inside 3rd <td> tag pair,\n",
    "        column_3 = col[2].string\n",
    "        # and append it to age variable\n",
    "        term.append(column_3)\n",
    "\n",
    "        # Create a variable of the string inside 4th <td> tag pair,\n",
    "        column_4 = col[3].text\n",
    "        # and append it to enroll variable\n",
    "        enroll.append(column_4)\n",
    "\n",
    "        # Create a variable of the string inside 5th <td> tag pair,\n",
    "        column_5 = spans[0].text\n",
    "        # and append it to postTestScore variable\n",
    "        evalMade.append(column_5)\n",
    "\n",
    "        column_6 = spans[2].text\n",
    "        rcmndInstructor.append(column_6)\n",
    "\n",
    "        column_7 = spans[3].text\n",
    "        studyHrs.append(column_7)\n",
    "\n",
    "        column_8 = spans[4].text\n",
    "        avgGradeExpected.append(column_8)\n",
    "\n",
    "        column_9 = spans[5].text\n",
    "        avgGradeReceived.append(column_9)\n",
    "\n",
    "    # Create a variable of the value of the columns\n",
    "    columns = {'Name': Name, 'rcmndClass': rcmndClass, 'term': term, 'enroll': enroll, 'evalMade': evalMade, \n",
    "               'rcmndInstructor':rcmndInstructor, 'studyHrs':studyHrs, 'avgGradeExpected':avgGradeExpected \n",
    "               ,'avgGradeReceived':avgGradeReceived, 'course':course, 'courseNum': courseNum}\n",
    "\n",
    "    # Create a dataframe from the columns variable\n",
    "    df = pd.DataFrame(columns)\n",
    "    df = df[['Name', 'course', 'courseNum', 'term', 'enroll', 'evalMade', 'rcmndClass', 'rcmndInstructor','studyHrs', \n",
    "             'avgGradeExpected', 'avgGradeReceived' ]]\n",
    "    return df"
   ]
  },
  {
   "cell_type": "markdown",
   "metadata": {},
   "source": [
    "Right now, we're focusing on data relating to the cogs major and the core classes needed. \n",
    "**We will do so for other majors(Cognitive Science, Biology, Biochemistry, Mechnical and Aerospace Engineering, Chemistry, Computer Science) as well!**\n",
    "We extract the data for the cogs major by scraping the data for each required course and the different professors that teach each course. We fill our dataframe using the scrapData function created above to give us raw data. "
   ]
  },
  {
   "cell_type": "code",
   "execution_count": 4,
   "metadata": {
    "collapsed": false
   },
   "outputs": [],
   "source": [
    "#links = ['MATH+20B', 'MATH+20A']\n",
    "cogsMajor = ['MATH+20A', 'MATH+20B','MATH+20C','MATH+20F','COGS+1','COGS+14A',\n",
    "             'COGS+101A','COGS+102A','COGS+107A','CSE+7']\n",
    "bioMajor = ['BILD+1', 'BILD+2', 'BILD+3', 'BILD+4', 'CHEM+140A', 'BIBD+102',\n",
    "           'BICD+100', 'BIMM+101', 'BIPN+105']\n",
    "maeMajor = ['MAE+106', 'MAE+130B', 'MAE131A', 'MAE110', 'MAE101', 'MAE143A']\n",
    "allMajors = [bioMajor, cogsMajor, maeMajor]\n",
    "dfTemp = pd.DataFrame()\n",
    "dfT = pd.DataFrame();\n",
    "for a in range(len(allMajors)):\n",
    "    for i in range(len(allMajors[a])):\n",
    "        dfTemp = scrapData(allMajors[a],i, dfT)\n",
    "        dfT = dfT.append(dfTemp)"
   ]
  },
  {
   "cell_type": "markdown",
   "metadata": {},
   "source": [
    "## Data Cleaning/Pre-processing\n",
    "\n",
    "The data we got above is raw data. We have to clean it now by omitting rows where the grade is not available. To make sure the data points hold significance, we remove rows where the number of evaluations made is less than 40%. This allows a more accurate representation of grade distribution among students. \n",
    "\n",
    "Below we find the average grade received data"
   ]
  },
  {
   "cell_type": "code",
   "execution_count": 5,
   "metadata": {
    "collapsed": true
   },
   "outputs": [],
   "source": [
    "#define a function that can take characters out from grade data\n",
    "def getAvgGradeData(dataFrame, column ):\n",
    "    for k in range(len(dataFrame[column])):\n",
    "        #split string in order to get rid of letters\n",
    "        x = dataFrame[column][k]\n",
    "        x = x.split('(')[1]\n",
    "        x = x.split(')')[0]\n",
    "        #set value to only number\n",
    "        dataFrame.loc[k,(column)] = x\n",
    "\n",
    "    #set to numeric value\n",
    "    dataFrame[column] = pd.to_numeric(dataFrame[column])\n",
    "    k = 0 #reset k\n",
    "    return dataFrame"
   ]
  },
  {
   "cell_type": "code",
   "execution_count": 6,
   "metadata": {
    "collapsed": true
   },
   "outputs": [],
   "source": [
    "#define a function that can take characters off from recommendation rate\n",
    "def getRcmndData(dataFrame, column ):\n",
    "    for k in range(len(dataFrame[column])):\n",
    "        y = dataFrame[column][k]\n",
    "        y = y.split(\" \")[0]\n",
    "        dataFrame.loc[k,(column)] = y\n",
    "        \n",
    "    #set to numeric value\n",
    "    dataFrame[column] = pd.to_numeric(dataFrame[column])\n",
    "    k = 0 #rest k\n",
    "    return dataFrame"
   ]
  },
  {
   "cell_type": "markdown",
   "metadata": {},
   "source": [
    "We don't really care about rows where the grade distributions are not available. Also, we only take into account classes where at least 40% of the students enrolled made evaluations. A size of 40% is too small to represent accurate data. We establish the available class numbers and set that into a dataframe. We take off characters for average grade expected and received as well as characters for recommend the class and instructor. "
   ]
  },
  {
   "cell_type": "code",
   "execution_count": 7,
   "metadata": {
    "collapsed": false,
    "scrolled": true
   },
   "outputs": [],
   "source": [
    "#converts the strings from enroll and evalMade to int\n",
    "dfT.enroll = pd.to_numeric(dfT.enroll)\n",
    "dfT.evalMade = pd.to_numeric(dfT.evalMade) \n",
    "#drops classes with N/a grade distributions \n",
    "dfT = dfT[dfT.avgGradeReceived != 'N/A'] \n",
    "dfT = dfT[dfT.avgGradeExpected != 'N/A'] \n",
    "#drops classes with less than 40% evals made\n",
    "dfT = dfT[dfT.evalMade/dfT.enroll > .20]\n",
    "dfT = dfT.reset_index(drop=True)\n",
    "allClassNum = ['20A', '20B', '20C', '20F', '1' , '14A' , '101A' , '102A' , \n",
    "               '107A', '7', '2', '3', '4', '140A', '102', '100', '101', '105',\n",
    "              '106', '130B', '131A', '110', '101', '143A']\n",
    "\n",
    "dfT = dfT[dfT['courseNum'].isin(allClassNum)]\n",
    "dfT = dfT.reset_index(drop = True)\n",
    "\n",
    "#take off characters for avgGradeExpected and avgGradeReceivedavgGradeRecieved\n",
    "dfT = getAvgGradeData(dfT, 'avgGradeReceived')\n",
    "dfT = getAvgGradeData(dfT, 'avgGradeExpected')\n",
    "\n",
    "#convert studyHrs to int\n",
    "dfT.studyHrs = pd.to_numeric(dfT.studyHrs) \n",
    "\n",
    "#take off characters for rcmndClass and recmndInstructor\n",
    "dfT = getRcmndData(dfT, 'rcmndClass')\n",
    "dfT = getRcmndData(dfT, 'rcmndInstructor')"
   ]
  },
  {
   "cell_type": "code",
   "execution_count": 8,
   "metadata": {
    "collapsed": false
   },
   "outputs": [],
   "source": [
    "#initialize maximum possible GPA\n",
    "maxGpa = []\n",
    "minGpa = []"
   ]
  },
  {
   "cell_type": "code",
   "execution_count": 9,
   "metadata": {
    "collapsed": false
   },
   "outputs": [],
   "source": [
    "cogsClassNum = ['20A', '20B', '20C', '20F', '1' , '14A' , '101A' , '102A' , '107A', '7']\n",
    "def gpaValue (classes, i, df):\n",
    "    #get the data and clean it\n",
    "    course = scrapData(classes,i, df)\n",
    "    course.enroll = pd.to_numeric(course.enroll)\n",
    "    course.evalMade = pd.to_numeric(course.evalMade)\n",
    "    course = course[course.avgGradeReceived != 'N/A'] \n",
    "    #drops classes with less than 40% evals made\n",
    "    course = course[course.evalMade/course.enroll > .40]\n",
    "    #reset index\n",
    "    course = course.reset_index(drop=True)\n",
    "\n",
    "    course = course[course['courseNum'].isin(cogsClassNum)]\n",
    "    course = course.reset_index(drop=True)\n",
    "\n",
    "    for k in range(len(course['avgGradeReceived'])):\n",
    "        x = course['avgGradeReceived'][k]\n",
    "        #split string in order to get rid of letters\n",
    "        x = x.split(\"(\")[1]\n",
    "        x = x.split(')')[0]\n",
    "        #set value to only number\n",
    "        course.loc[k,('avgGradeReceived')] = x\n",
    "\n",
    "    #set to numeric value\n",
    "    course.avgGradeReceived = pd.to_numeric(course.avgGradeReceived)\n",
    "\n",
    "    #get the maximum value\n",
    "    rowMax = course['avgGradeReceived'].idxmax()\n",
    "    rowMin = course['avgGradeReceived'].idxmin()\n",
    "\n",
    "    #get the GPA and format it in hundreds\n",
    "    maxGpa.append(math.ceil((course['avgGradeReceived'][rowMax])*100)/100)\n",
    "    minGpa.append(math.ceil((course['avgGradeReceived'][rowMin])*100)/100)"
   ]
  },
  {
   "cell_type": "code",
   "execution_count": 10,
   "metadata": {
    "collapsed": false
   },
   "outputs": [],
   "source": [
    "#get gpa values for all classes\n",
    "df_1 = pd.DataFrame();\n",
    "for i in range(len(cogsMajor)):\n",
    "    gpaValue(cogsMajor, i, df_1)"
   ]
  },
  {
   "cell_type": "code",
   "execution_count": 11,
   "metadata": {
    "collapsed": false
   },
   "outputs": [
    {
     "data": {
      "text/html": [
       "<div>\n",
       "<table border=\"1\" class=\"dataframe\">\n",
       "  <thead>\n",
       "    <tr style=\"text-align: right;\">\n",
       "      <th></th>\n",
       "      <th>course</th>\n",
       "      <th>maxGpa</th>\n",
       "      <th>minGpa</th>\n",
       "    </tr>\n",
       "  </thead>\n",
       "  <tbody>\n",
       "    <tr>\n",
       "      <th>0</th>\n",
       "      <td>MATH+20A</td>\n",
       "      <td>3.45</td>\n",
       "      <td>1.87</td>\n",
       "    </tr>\n",
       "    <tr>\n",
       "      <th>1</th>\n",
       "      <td>MATH+20B</td>\n",
       "      <td>3.22</td>\n",
       "      <td>1.94</td>\n",
       "    </tr>\n",
       "    <tr>\n",
       "      <th>2</th>\n",
       "      <td>MATH+20C</td>\n",
       "      <td>3.67</td>\n",
       "      <td>2.32</td>\n",
       "    </tr>\n",
       "    <tr>\n",
       "      <th>3</th>\n",
       "      <td>MATH+20F</td>\n",
       "      <td>3.20</td>\n",
       "      <td>2.01</td>\n",
       "    </tr>\n",
       "    <tr>\n",
       "      <th>4</th>\n",
       "      <td>COGS+1</td>\n",
       "      <td>3.62</td>\n",
       "      <td>2.52</td>\n",
       "    </tr>\n",
       "    <tr>\n",
       "      <th>5</th>\n",
       "      <td>COGS+14A</td>\n",
       "      <td>3.34</td>\n",
       "      <td>2.69</td>\n",
       "    </tr>\n",
       "    <tr>\n",
       "      <th>6</th>\n",
       "      <td>COGS+101A</td>\n",
       "      <td>3.39</td>\n",
       "      <td>2.68</td>\n",
       "    </tr>\n",
       "    <tr>\n",
       "      <th>7</th>\n",
       "      <td>COGS+102A</td>\n",
       "      <td>3.55</td>\n",
       "      <td>3.08</td>\n",
       "    </tr>\n",
       "    <tr>\n",
       "      <th>8</th>\n",
       "      <td>COGS+107A</td>\n",
       "      <td>3.19</td>\n",
       "      <td>2.79</td>\n",
       "    </tr>\n",
       "    <tr>\n",
       "      <th>9</th>\n",
       "      <td>CSE+7</td>\n",
       "      <td>3.50</td>\n",
       "      <td>2.95</td>\n",
       "    </tr>\n",
       "  </tbody>\n",
       "</table>\n",
       "</div>"
      ],
      "text/plain": [
       "      course  maxGpa  minGpa\n",
       "0   MATH+20A    3.45    1.87\n",
       "1   MATH+20B    3.22    1.94\n",
       "2   MATH+20C    3.67    2.32\n",
       "3   MATH+20F    3.20    2.01\n",
       "4     COGS+1    3.62    2.52\n",
       "5   COGS+14A    3.34    2.69\n",
       "6  COGS+101A    3.39    2.68\n",
       "7  COGS+102A    3.55    3.08\n",
       "8  COGS+107A    3.19    2.79\n",
       "9      CSE+7    3.50    2.95"
      ]
     },
     "execution_count": 11,
     "metadata": {},
     "output_type": "execute_result"
    }
   ],
   "source": [
    "#make it as a dataFrame for further use\n",
    "gpaStats = pd.DataFrame(\n",
    "    {'course': cogsMajor,\n",
    "     'maxGpa': maxGpa,\n",
    "     'minGpa': minGpa\n",
    "    })\n",
    "gpaStats"
   ]
  },
  {
   "cell_type": "markdown",
   "metadata": {},
   "source": [
    "## Data Analysis and Results\n",
    "\n",
    "With this data we will be able to track changes in student GPA for the last ten years. We will compare changes in GPA across departments, we can see if UCSD follows national trends while keeping our datapool campus wide. Comparing study hours bewteen the courses taught by professors of the same department allows us to analyze study methods as a descrepency. Ultimately, we are looking to see if students who take professors with higher grade distributions and students who take professors with lower grade distributions and see how much of an impact the difference in professors have on students' overall GPA."
   ]
  },
  {
   "cell_type": "code",
   "execution_count": 12,
   "metadata": {
    "collapsed": false,
    "scrolled": true
   },
   "outputs": [
    {
     "data": {
      "image/png": "[encoded data removed]",
      "text/plain": [
       "<matplotlib.figure.Figure at 0x11e11ed30>"
      ]
     },
     "metadata": {},
     "output_type": "display_data"
    }
   ],
   "source": [
    "# Setting the positions and width for the bars\n",
    "pos = list(range(len(gpaStats['course'])))\n",
    "width = 0.3\n",
    "\n",
    "# Plotting the bars\n",
    "fig, ax = plt.subplots(figsize=(20,7))\n",
    "\n",
    "# Create a bar with gpa data,\n",
    "# in position pos,\n",
    "plt.bar(pos, gpaStats['maxGpa'], width, alpha=0.5, color='#EE3224', label=gpaStats['course'][0])\n",
    "plt.bar([p + width for p in pos], gpaStats['minGpa'], width, alpha=0.5, color='#F78F1E', label=gpaStats['course'][1])\n",
    "\n",
    "# Set the y axis label, title, and positions of x\n",
    "ax.set_ylabel('GPA')\n",
    "ax.set_title('Course GPA')\n",
    "ax.set_xticks([p + 0.7 * width for p in pos])\n",
    "\n",
    "# Set the labels for the x ticks\n",
    "ax.set_xticklabels(gpaStats['course'])\n",
    "\n",
    "# Setting the x-axis and y-axis limits\n",
    "plt.xlim(min(pos)-width, max(pos)+width*4)\n",
    "plt.ylim([0, max(gpaStats['maxGpa'] + gpaStats['minGpa'])] )\n",
    "\n",
    "rects = ax.patches\n",
    "\n",
    "#add number labels\n",
    "for rect, label in zip(rects, gpaStats.maxGpa):\n",
    "    height = rect.get_height()\n",
    "    ax.text(rect.get_x() + rect.get_width()/2, height + 0.2, label, ha='center', va='bottom')\n",
    "\n",
    "rects = ax.patches\n",
    "for rect, label in zip(rects, gpaStats.minGpa):\n",
    "    height = rect.get_height()\n",
    "    ax.text(rect.get_x() + rect.get_width()/2 + 0.3, height - 0.4 , label, ha='center', va='bottom')\n",
    "\n",
    "# Adding the legend and showing the plot\n",
    "plt.legend(['maxGpa', 'minGpa'], loc='upper left')\n",
    "plt.grid()\n",
    "plt.show()"
   ]
  },
  {
   "cell_type": "markdown",
   "metadata": {},
   "source": [
    "In the graph above, the best average GPA is a 3.67 for those in MATH 20C while the worst average GPA is a 1.87 in MATH 20A. COGS 107A has the smallest range between the highest average GPA and lowest average GPA while MATH 20A has the largest range. This means in classes like MATH 20A, there are professors that grade significantly harsher than others, causing a fluctuation in GPAs, but classes like COGS 107A have professors who grade around the same. Overall, with the highest GPA average being 3.67( A- is 3.7) and the lowest GPA average being 1.87 (C is 2.0), there's a difference of 1.8 (**more than a letter grade**). That's a huge significance when it comes to choosing which professor for each class. \n",
    "\n",
    "In the graph below represents a student who did average in every class where the class average was the highest compared to a student who did average in every class where the class average was the lowet. Both students did average in their respective classes but one student has nearly 1.0 higher overall GPA, a whole letter grade higher, than the other, from averaging in the higher scoring class. This shows that the professors chosen during course selection affected their GPA. \n"
   ]
  },
  {
   "cell_type": "code",
   "execution_count": 13,
   "metadata": {
    "collapsed": false
   },
   "outputs": [
    {
     "data": {
      "image/png": "[encoded data removed]",
      "text/plain": [
       "<matplotlib.figure.Figure at 0x11d6c2550>"
      ]
     },
     "metadata": {},
     "output_type": "display_data"
    }
   ],
   "source": [
    "#do a comparison between maximum possible GPA and minimum possible GPA\n",
    "avgMax = math.ceil(sum(maxGpa)/len(maxGpa) *100)/100\n",
    "avgMin = math.ceil(sum(minGpa)/len(minGpa) *100)/100\n",
    "\n",
    "comparison = [avgMax, avgMin]   # bring some raw data\n",
    "freq_series = pd.Series.from_array(comparison) \n",
    "\n",
    "x_labels = ['maxGpa' + 'minGpa']\n",
    "\n",
    "# now to plot the figure\n",
    "plt.figure(figsize=(5, 5))\n",
    "ax = freq_series.plot(kind='bar')\n",
    "plt.ylim([0, 4.5] )\n",
    "\n",
    "rects = ax.patches\n",
    "\n",
    "for rect, label in zip(rects, comparison):\n",
    "    height = rect.get_height()\n",
    "    ax.text(rect.get_x() + rect.get_width()/2, height + 0.1, label, ha='center', va='bottom')\n",
    "    \n",
    "objects = ('maxGpa', 'minGpa')\n",
    "y_pos = np.arange(len(objects))\n",
    "plt.xticks(y_pos, objects)\n",
    "plt.ylabel('Cogs Major')\n",
    "plt.title('GPA Difference')\n",
    "plt.show()"
   ]
  },
  {
   "cell_type": "markdown",
   "metadata": {},
   "source": [
    "We want to get a random sample grade to compare the discrepency between choosing a professor who is more lenient with their grading and one who grades harsher. To do this we randomly choos 1000 students' GPAs"
   ]
  },
  {
   "cell_type": "code",
   "execution_count": 14,
   "metadata": {
    "collapsed": false
   },
   "outputs": [],
   "source": [
    "n = 1000\n",
    "RanGpaStudents = [[] for _ in range(n)]\n",
    "def getRandom (classes, i, df):\n",
    "    #get the data and clean it\n",
    "    course = scrapData(classes,i, df)\n",
    "    course.enroll = pd.to_numeric(course.enroll)\n",
    "    course.evalMade = pd.to_numeric(course.evalMade)\n",
    "    course = course[course.avgGradeReceived != 'N/A'] \n",
    "    #drops classes with less than 40% evals made\n",
    "    course = course[course.evalMade/course.enroll > .40]\n",
    "    #reset index\n",
    "    course = course.reset_index(drop=True)\n",
    "\n",
    "    course = course[course['courseNum'].isin(cogsClassNum)]\n",
    "    course = course.reset_index(drop=True)\n",
    "\n",
    "    for k in range(len(course['avgGradeReceived'])):\n",
    "        x = course['avgGradeReceived'][k]\n",
    "        #split string in order to get rid of letters\n",
    "        x = x.split(\"(\")[1]\n",
    "        x = x.split(')')[0]\n",
    "        #set value to only number\n",
    "        course.loc[k,('avgGradeReceived')] = x\n",
    "\n",
    "    #set to numeric value\n",
    "    course.avgGradeReceived = pd.to_numeric(course.avgGradeReceived)\n",
    "    \n",
    "    #get randon sample grade \n",
    "    for i in range(1000):\n",
    "        randomGpa = course['avgGradeReceived'].sample(n = 1)\n",
    "        RanGpaStudents[i].append(float(randomGpa))"
   ]
  },
  {
   "cell_type": "code",
   "execution_count": 15,
   "metadata": {
    "collapsed": false
   },
   "outputs": [],
   "source": [
    "df_1 = pd.DataFrame();\n",
    "for i in range(len(cogsMajor)):\n",
    "    getRandom(cogsMajor, i, df_1)"
   ]
  },
  {
   "cell_type": "markdown",
   "metadata": {},
   "source": [
    "We create the dataframe with 1000 random student GPAs for Cogs major courses. We'll use the random student grade distributions to compare with each other to see if we can find a discrepency. We substitute the course numbers with 0-9 so it can be read easier. "
   ]
  },
  {
   "cell_type": "code",
   "execution_count": 16,
   "metadata": {
    "collapsed": false
   },
   "outputs": [
    {
     "data": {
      "text/html": [
       "<div>\n",
       "<table border=\"1\" class=\"dataframe\">\n",
       "  <thead>\n",
       "    <tr style=\"text-align: right;\">\n",
       "      <th></th>\n",
       "      <th>0</th>\n",
       "      <th>1</th>\n",
       "      <th>2</th>\n",
       "      <th>3</th>\n",
       "      <th>4</th>\n",
       "      <th>5</th>\n",
       "      <th>6</th>\n",
       "      <th>7</th>\n",
       "      <th>8</th>\n",
       "      <th>9</th>\n",
       "      <th>...</th>\n",
       "      <th>990</th>\n",
       "      <th>991</th>\n",
       "      <th>992</th>\n",
       "      <th>993</th>\n",
       "      <th>994</th>\n",
       "      <th>995</th>\n",
       "      <th>996</th>\n",
       "      <th>997</th>\n",
       "      <th>998</th>\n",
       "      <th>999</th>\n",
       "    </tr>\n",
       "  </thead>\n",
       "  <tbody>\n",
       "    <tr>\n",
       "      <th>0</th>\n",
       "      <td>2.46</td>\n",
       "      <td>2.62</td>\n",
       "      <td>2.93</td>\n",
       "      <td>2.72</td>\n",
       "      <td>2.36</td>\n",
       "      <td>2.95</td>\n",
       "      <td>2.72</td>\n",
       "      <td>2.81</td>\n",
       "      <td>2.41</td>\n",
       "      <td>2.73</td>\n",
       "      <td>...</td>\n",
       "      <td>2.93</td>\n",
       "      <td>2.46</td>\n",
       "      <td>2.73</td>\n",
       "      <td>2.38</td>\n",
       "      <td>3.17</td>\n",
       "      <td>2.63</td>\n",
       "      <td>2.38</td>\n",
       "      <td>2.55</td>\n",
       "      <td>2.87</td>\n",
       "      <td>2.92</td>\n",
       "    </tr>\n",
       "    <tr>\n",
       "      <th>1</th>\n",
       "      <td>2.47</td>\n",
       "      <td>2.80</td>\n",
       "      <td>2.88</td>\n",
       "      <td>2.88</td>\n",
       "      <td>2.84</td>\n",
       "      <td>2.84</td>\n",
       "      <td>2.83</td>\n",
       "      <td>3.10</td>\n",
       "      <td>2.19</td>\n",
       "      <td>2.38</td>\n",
       "      <td>...</td>\n",
       "      <td>2.63</td>\n",
       "      <td>2.40</td>\n",
       "      <td>3.03</td>\n",
       "      <td>2.83</td>\n",
       "      <td>2.58</td>\n",
       "      <td>2.63</td>\n",
       "      <td>3.13</td>\n",
       "      <td>2.62</td>\n",
       "      <td>2.63</td>\n",
       "      <td>2.71</td>\n",
       "    </tr>\n",
       "    <tr>\n",
       "      <th>2</th>\n",
       "      <td>2.86</td>\n",
       "      <td>2.76</td>\n",
       "      <td>2.96</td>\n",
       "      <td>2.73</td>\n",
       "      <td>2.76</td>\n",
       "      <td>2.64</td>\n",
       "      <td>2.77</td>\n",
       "      <td>2.40</td>\n",
       "      <td>2.78</td>\n",
       "      <td>2.66</td>\n",
       "      <td>...</td>\n",
       "      <td>2.82</td>\n",
       "      <td>2.54</td>\n",
       "      <td>2.90</td>\n",
       "      <td>2.45</td>\n",
       "      <td>3.67</td>\n",
       "      <td>2.40</td>\n",
       "      <td>2.79</td>\n",
       "      <td>2.49</td>\n",
       "      <td>2.32</td>\n",
       "      <td>2.62</td>\n",
       "    </tr>\n",
       "    <tr>\n",
       "      <th>3</th>\n",
       "      <td>2.71</td>\n",
       "      <td>2.67</td>\n",
       "      <td>2.01</td>\n",
       "      <td>2.64</td>\n",
       "      <td>2.67</td>\n",
       "      <td>2.68</td>\n",
       "      <td>2.85</td>\n",
       "      <td>2.78</td>\n",
       "      <td>2.72</td>\n",
       "      <td>2.78</td>\n",
       "      <td>...</td>\n",
       "      <td>2.75</td>\n",
       "      <td>2.99</td>\n",
       "      <td>2.67</td>\n",
       "      <td>2.54</td>\n",
       "      <td>2.90</td>\n",
       "      <td>2.79</td>\n",
       "      <td>3.18</td>\n",
       "      <td>2.76</td>\n",
       "      <td>2.99</td>\n",
       "      <td>2.95</td>\n",
       "    </tr>\n",
       "    <tr>\n",
       "      <th>4</th>\n",
       "      <td>3.11</td>\n",
       "      <td>3.22</td>\n",
       "      <td>3.33</td>\n",
       "      <td>3.22</td>\n",
       "      <td>3.62</td>\n",
       "      <td>3.03</td>\n",
       "      <td>3.12</td>\n",
       "      <td>3.05</td>\n",
       "      <td>2.86</td>\n",
       "      <td>2.99</td>\n",
       "      <td>...</td>\n",
       "      <td>2.86</td>\n",
       "      <td>2.69</td>\n",
       "      <td>3.28</td>\n",
       "      <td>2.69</td>\n",
       "      <td>3.04</td>\n",
       "      <td>3.15</td>\n",
       "      <td>3.53</td>\n",
       "      <td>2.68</td>\n",
       "      <td>2.95</td>\n",
       "      <td>3.12</td>\n",
       "    </tr>\n",
       "    <tr>\n",
       "      <th>5</th>\n",
       "      <td>3.05</td>\n",
       "      <td>3.22</td>\n",
       "      <td>3.34</td>\n",
       "      <td>3.21</td>\n",
       "      <td>3.05</td>\n",
       "      <td>3.01</td>\n",
       "      <td>3.03</td>\n",
       "      <td>3.22</td>\n",
       "      <td>3.21</td>\n",
       "      <td>3.12</td>\n",
       "      <td>...</td>\n",
       "      <td>2.69</td>\n",
       "      <td>3.31</td>\n",
       "      <td>3.12</td>\n",
       "      <td>3.03</td>\n",
       "      <td>3.22</td>\n",
       "      <td>3.12</td>\n",
       "      <td>3.34</td>\n",
       "      <td>3.31</td>\n",
       "      <td>3.31</td>\n",
       "      <td>3.12</td>\n",
       "    </tr>\n",
       "    <tr>\n",
       "      <th>6</th>\n",
       "      <td>3.16</td>\n",
       "      <td>3.15</td>\n",
       "      <td>3.05</td>\n",
       "      <td>3.05</td>\n",
       "      <td>2.68</td>\n",
       "      <td>3.04</td>\n",
       "      <td>2.68</td>\n",
       "      <td>3.02</td>\n",
       "      <td>3.15</td>\n",
       "      <td>3.15</td>\n",
       "      <td>...</td>\n",
       "      <td>3.05</td>\n",
       "      <td>3.05</td>\n",
       "      <td>3.15</td>\n",
       "      <td>3.15</td>\n",
       "      <td>2.68</td>\n",
       "      <td>2.83</td>\n",
       "      <td>3.39</td>\n",
       "      <td>2.83</td>\n",
       "      <td>3.16</td>\n",
       "      <td>2.68</td>\n",
       "    </tr>\n",
       "    <tr>\n",
       "      <th>7</th>\n",
       "      <td>3.08</td>\n",
       "      <td>3.11</td>\n",
       "      <td>3.21</td>\n",
       "      <td>3.33</td>\n",
       "      <td>3.33</td>\n",
       "      <td>3.33</td>\n",
       "      <td>3.08</td>\n",
       "      <td>3.55</td>\n",
       "      <td>3.33</td>\n",
       "      <td>3.25</td>\n",
       "      <td>...</td>\n",
       "      <td>3.14</td>\n",
       "      <td>3.33</td>\n",
       "      <td>3.14</td>\n",
       "      <td>3.33</td>\n",
       "      <td>3.55</td>\n",
       "      <td>3.55</td>\n",
       "      <td>3.33</td>\n",
       "      <td>3.33</td>\n",
       "      <td>3.25</td>\n",
       "      <td>3.14</td>\n",
       "    </tr>\n",
       "    <tr>\n",
       "      <th>8</th>\n",
       "      <td>3.19</td>\n",
       "      <td>3.19</td>\n",
       "      <td>2.99</td>\n",
       "      <td>2.91</td>\n",
       "      <td>2.95</td>\n",
       "      <td>2.79</td>\n",
       "      <td>2.95</td>\n",
       "      <td>2.95</td>\n",
       "      <td>2.91</td>\n",
       "      <td>2.83</td>\n",
       "      <td>...</td>\n",
       "      <td>2.82</td>\n",
       "      <td>2.83</td>\n",
       "      <td>2.99</td>\n",
       "      <td>2.86</td>\n",
       "      <td>2.95</td>\n",
       "      <td>3.19</td>\n",
       "      <td>2.95</td>\n",
       "      <td>2.91</td>\n",
       "      <td>2.79</td>\n",
       "      <td>2.79</td>\n",
       "    </tr>\n",
       "    <tr>\n",
       "      <th>9</th>\n",
       "      <td>3.50</td>\n",
       "      <td>3.24</td>\n",
       "      <td>3.24</td>\n",
       "      <td>3.38</td>\n",
       "      <td>2.95</td>\n",
       "      <td>3.21</td>\n",
       "      <td>3.38</td>\n",
       "      <td>3.21</td>\n",
       "      <td>3.38</td>\n",
       "      <td>3.38</td>\n",
       "      <td>...</td>\n",
       "      <td>3.38</td>\n",
       "      <td>3.47</td>\n",
       "      <td>3.50</td>\n",
       "      <td>3.47</td>\n",
       "      <td>3.24</td>\n",
       "      <td>3.47</td>\n",
       "      <td>3.47</td>\n",
       "      <td>3.22</td>\n",
       "      <td>3.50</td>\n",
       "      <td>3.47</td>\n",
       "    </tr>\n",
       "  </tbody>\n",
       "</table>\n",
       "<p>10 rows × 1000 columns</p>\n",
       "</div>"
      ],
      "text/plain": [
       "    0     1     2     3     4     5     6     7     8     9    ...    990  \\\n",
       "0  2.46  2.62  2.93  2.72  2.36  2.95  2.72  2.81  2.41  2.73  ...   2.93   \n",
       "1  2.47  2.80  2.88  2.88  2.84  2.84  2.83  3.10  2.19  2.38  ...   2.63   \n",
       "2  2.86  2.76  2.96  2.73  2.76  2.64  2.77  2.40  2.78  2.66  ...   2.82   \n",
       "3  2.71  2.67  2.01  2.64  2.67  2.68  2.85  2.78  2.72  2.78  ...   2.75   \n",
       "4  3.11  3.22  3.33  3.22  3.62  3.03  3.12  3.05  2.86  2.99  ...   2.86   \n",
       "5  3.05  3.22  3.34  3.21  3.05  3.01  3.03  3.22  3.21  3.12  ...   2.69   \n",
       "6  3.16  3.15  3.05  3.05  2.68  3.04  2.68  3.02  3.15  3.15  ...   3.05   \n",
       "7  3.08  3.11  3.21  3.33  3.33  3.33  3.08  3.55  3.33  3.25  ...   3.14   \n",
       "8  3.19  3.19  2.99  2.91  2.95  2.79  2.95  2.95  2.91  2.83  ...   2.82   \n",
       "9  3.50  3.24  3.24  3.38  2.95  3.21  3.38  3.21  3.38  3.38  ...   3.38   \n",
       "\n",
       "    991   992   993   994   995   996   997   998   999  \n",
       "0  2.46  2.73  2.38  3.17  2.63  2.38  2.55  2.87  2.92  \n",
       "1  2.40  3.03  2.83  2.58  2.63  3.13  2.62  2.63  2.71  \n",
       "2  2.54  2.90  2.45  3.67  2.40  2.79  2.49  2.32  2.62  \n",
       "3  2.99  2.67  2.54  2.90  2.79  3.18  2.76  2.99  2.95  \n",
       "4  2.69  3.28  2.69  3.04  3.15  3.53  2.68  2.95  3.12  \n",
       "5  3.31  3.12  3.03  3.22  3.12  3.34  3.31  3.31  3.12  \n",
       "6  3.05  3.15  3.15  2.68  2.83  3.39  2.83  3.16  2.68  \n",
       "7  3.33  3.14  3.33  3.55  3.55  3.33  3.33  3.25  3.14  \n",
       "8  2.83  2.99  2.86  2.95  3.19  2.95  2.91  2.79  2.79  \n",
       "9  3.47  3.50  3.47  3.24  3.47  3.47  3.22  3.50  3.47  \n",
       "\n",
       "[10 rows x 1000 columns]"
      ]
     },
     "execution_count": 16,
     "metadata": {},
     "output_type": "execute_result"
    }
   ],
   "source": [
    "gpaRanStudent = pd.DataFrame.from_dict(RanGpaStudents) #creates dataframe with 1000 random students grade distribution\n",
    "gpaRanStudent = gpaRanStudent.transpose() #turns rows into columns \n",
    "course = pd.DataFrame({'course': cogsMajor}) #creates dataframe for Cogs courses\n",
    "random_students = pd.concat([course,gpaRanStudent], axis = 1) # creates dataframe with 1000 random students for Cogs courses\n",
    "gpaRanStudent"
   ]
  },
  {
   "cell_type": "code",
   "execution_count": 17,
   "metadata": {
    "collapsed": false
   },
   "outputs": [],
   "source": [
    "#covert to int\n",
    "gpaRanStudent = gpaRanStudent.apply(pd.to_numeric)"
   ]
  },
  {
   "cell_type": "markdown",
   "metadata": {},
   "source": [
    "Here we find the random overall GPA "
   ]
  },
  {
   "cell_type": "code",
   "execution_count": 18,
   "metadata": {
    "collapsed": false
   },
   "outputs": [],
   "source": [
    "def get_random_overall_GPA(randomStudentData, array):\n",
    "    for i in range(len(randomStudentData.columns)):\n",
    "        x = sum(randomStudentData[i])/10\n",
    "        x = math.ceil(x*100)/100\n",
    "        array.append(x)"
   ]
  },
  {
   "cell_type": "markdown",
   "metadata": {},
   "source": [
    "The histogram below shoes the frequency of the distribution of random students. This graph shows a pretty average distribution of GPA over random students. The bell curve is pretty standard so the data is reliable and not skewed. "
   ]
  },
  {
   "cell_type": "code",
   "execution_count": 20,
   "metadata": {
    "collapsed": false
   },
   "outputs": [
    {
     "data": {
      "image/png": "[encoded data removed]",
      "text/plain": [
       "<matplotlib.figure.Figure at 0x11c1826a0>"
      ]
     },
     "metadata": {},
     "output_type": "display_data"
    }
   ],
   "source": [
    "stats.normaltest(ran_students_overall)\n",
    "\n",
    "fit = stats.norm.pdf(ran_students_overall, np.mean(ran_students_overall), np.std(ran_students_overall))  #this is a fitting indeed\n",
    "\n",
    "plt.plot(ran_students_overall,fit,'o')\n",
    "\n",
    "plt.hist(ran_students_overall,normed=True)      #use this to draw histogram of your data\n",
    "\n",
    "plt.ylabel('Frequency')\n",
    "plt.xlabel('GPA')\n",
    "plt.title('Distribution of Random Students')\n",
    "plt.show()    "
   ]
  },
  {
   "cell_type": "code",
   "execution_count": 19,
   "metadata": {
    "collapsed": false
   },
   "outputs": [],
   "source": [
    "ran_students_overall = []\n",
    "get_random_overall_GPA(gpaRanStudent, ran_students_overall)"
   ]
  },
  {
   "cell_type": "markdown",
   "metadata": {},
   "source": [
    "We want to see how student satisfaction also plays a role so separate the good and bad professors based on percentage of students who recommends the professor. If more than 85% of the class recommends the professor, he would be a good professor. Otherwise, he's a bad professor for not haven't enough recommendations.\n",
    "\n",
    "To do this, we clean the classes dataset and then loop it. We loop to find the average grade received and then loop again to find the rate of which students recommended professors and update the course columns appropriately. Finally we split the professors to good anad bad professors"
   ]
  },
  {
   "cell_type": "code",
   "execution_count": 37,
   "metadata": {
    "collapsed": true
   },
   "outputs": [],
   "source": [
    "cogsClassNum = ['20A', '20B', '20C', '20F', '1' , '14A' , '101A' , '102A' , '107A', '7']\n",
    "\n",
    "classes = cogsMajor\n",
    "df = pd.DataFrame()\n",
    "i = 0\n",
    "goodProf = pd.DataFrame() \n",
    "badProf = pd.DataFrame() \n",
    "\n",
    "for i in range(len(cogsMajor)):\n",
    "    course = scrapData(classes, i, df)\n",
    "    course.enroll = pd.to_numeric(course.enroll)\n",
    "    course.evalMade = pd.to_numeric(course.evalMade)\n",
    "    course = course[course.avgGradeReceived != 'N/A'] \n",
    "    #drops classes with less than 40% evals made\n",
    "    course = course[course.evalMade/course.enroll > .40]\n",
    "    #reset index\n",
    "    course = course.reset_index(drop=True)\n",
    "\n",
    "    course = course[course['courseNum'].isin(cogsClassNum)]\n",
    "    course = course.reset_index(drop=True)\n",
    "    \n",
    "    for j in range(len(course['avgGradeReceived'])):\n",
    "        x = course['avgGradeReceived'][j]\n",
    "        #split string in order to get rid of letters\n",
    "        x = x.split(\"(\")[1]\n",
    "        x = x.split(')')[0]\n",
    "        #set value to only number\n",
    "        course.loc[j,('avgGradeReceived')] = x\n",
    "    \n",
    "    #set to numeric value\n",
    "    course.avgGradeReceived = pd.to_numeric(course.avgGradeReceived)\n",
    "  \n",
    "    #take out the percentage, only keep as interger\n",
    "    for k in range(len(course['rcmndInstructor'])):\n",
    "        y = course['rcmndInstructor'][k]\n",
    "        y = y.split(\" \")[0]\n",
    "        course.loc[k,('rcmndInstructor')] = y\n",
    "    course.rcmndInstructor = pd.to_numeric(course.rcmndInstructor)\n",
    "\n",
    "    #seperate good and bad professors based on the recommendation rate\n",
    "    goodProf = goodProf.append(course[course.rcmndInstructor >= 85.0])\n",
    "    badProf = badProf.append(course[course.rcmndInstructor < 85.0])"
   ]
  },
  {
   "cell_type": "markdown",
   "metadata": {},
   "source": [
    "We get a random GPAs from students who has taken a good professor and random GPAs from students who has taken a bad professor. "
   ]
  },
  {
   "cell_type": "code",
   "execution_count": 22,
   "metadata": {
    "collapsed": false
   },
   "outputs": [],
   "source": [
    "goodProf = goodProf.reset_index(drop=True) #reset index\n",
    "badProf = badProf.reset_index(drop=True) #reset index\n",
    "\n",
    "n = 1000\n",
    "RanGpaStudents = [[] for _ in range(n)]\n",
    "RanGpaStudents2 = [[] for _ in range(n)]\n",
    "def getRandom2 (classes, i, df): \n",
    "    #get randon sample grade \n",
    "    for i in range(1000):\n",
    "        randomGpa = goodProf['avgGradeReceived'].sample(n = 1)\n",
    "        RanGpaStudents[i].append(float(randomGpa))\n",
    "        randomGpa2 = badProf['avgGradeReceived'].sample(n = 1)\n",
    "        RanGpaStudents2[i].append(float(randomGpa2))"
   ]
  },
  {
   "cell_type": "code",
   "execution_count": 23,
   "metadata": {
    "collapsed": false
   },
   "outputs": [
    {
     "data": {
      "text/plain": [
       "153    2.81\n",
       "Name: avgGradeReceived, dtype: float64"
      ]
     },
     "execution_count": 23,
     "metadata": {},
     "output_type": "execute_result"
    }
   ],
   "source": [
    "randomGpa = goodProf['avgGradeReceived'].sample(n = 1)\n",
    "randomGpa2 = badProf['avgGradeReceived'].sample(n = 1)\n",
    "randomGpa2"
   ]
  },
  {
   "cell_type": "markdown",
   "metadata": {},
   "source": [
    "Creating a dataframe filled with random GPAs from the cogs department"
   ]
  },
  {
   "cell_type": "code",
   "execution_count": 24,
   "metadata": {
    "collapsed": false
   },
   "outputs": [],
   "source": [
    "df_1 = pd.DataFrame();\n",
    "for i in range(len(cogsMajor)):\n",
    "    getRandom2(cogsMajor, i, df_1)"
   ]
  },
  {
   "cell_type": "markdown",
   "metadata": {},
   "source": [
    "Create a dataframe with 1000 random studnet GPAs from students who have taken a good professor from 10 different courses."
   ]
  },
  {
   "cell_type": "code",
   "execution_count": 25,
   "metadata": {
    "collapsed": false
   },
   "outputs": [
    {
     "data": {
      "text/html": [
       "<div>\n",
       "<table border=\"1\" class=\"dataframe\">\n",
       "  <thead>\n",
       "    <tr style=\"text-align: right;\">\n",
       "      <th></th>\n",
       "      <th>course</th>\n",
       "      <th>0</th>\n",
       "      <th>1</th>\n",
       "      <th>2</th>\n",
       "      <th>3</th>\n",
       "      <th>4</th>\n",
       "      <th>5</th>\n",
       "      <th>6</th>\n",
       "      <th>7</th>\n",
       "      <th>8</th>\n",
       "      <th>...</th>\n",
       "      <th>990</th>\n",
       "      <th>991</th>\n",
       "      <th>992</th>\n",
       "      <th>993</th>\n",
       "      <th>994</th>\n",
       "      <th>995</th>\n",
       "      <th>996</th>\n",
       "      <th>997</th>\n",
       "      <th>998</th>\n",
       "      <th>999</th>\n",
       "    </tr>\n",
       "  </thead>\n",
       "  <tbody>\n",
       "    <tr>\n",
       "      <th>0</th>\n",
       "      <td>MATH+20A</td>\n",
       "      <td>2.70</td>\n",
       "      <td>2.96</td>\n",
       "      <td>2.60</td>\n",
       "      <td>2.62</td>\n",
       "      <td>2.58</td>\n",
       "      <td>2.79</td>\n",
       "      <td>2.95</td>\n",
       "      <td>2.88</td>\n",
       "      <td>2.91</td>\n",
       "      <td>...</td>\n",
       "      <td>3.21</td>\n",
       "      <td>2.86</td>\n",
       "      <td>2.53</td>\n",
       "      <td>2.50</td>\n",
       "      <td>3.17</td>\n",
       "      <td>2.88</td>\n",
       "      <td>3.67</td>\n",
       "      <td>2.96</td>\n",
       "      <td>2.53</td>\n",
       "      <td>3.53</td>\n",
       "    </tr>\n",
       "    <tr>\n",
       "      <th>1</th>\n",
       "      <td>MATH+20B</td>\n",
       "      <td>2.72</td>\n",
       "      <td>2.54</td>\n",
       "      <td>3.28</td>\n",
       "      <td>2.80</td>\n",
       "      <td>2.54</td>\n",
       "      <td>2.33</td>\n",
       "      <td>2.96</td>\n",
       "      <td>2.92</td>\n",
       "      <td>2.53</td>\n",
       "      <td>...</td>\n",
       "      <td>2.23</td>\n",
       "      <td>2.81</td>\n",
       "      <td>2.83</td>\n",
       "      <td>2.62</td>\n",
       "      <td>3.02</td>\n",
       "      <td>3.21</td>\n",
       "      <td>2.91</td>\n",
       "      <td>2.53</td>\n",
       "      <td>3.21</td>\n",
       "      <td>2.53</td>\n",
       "    </tr>\n",
       "    <tr>\n",
       "      <th>2</th>\n",
       "      <td>MATH+20C</td>\n",
       "      <td>2.96</td>\n",
       "      <td>2.76</td>\n",
       "      <td>2.77</td>\n",
       "      <td>2.45</td>\n",
       "      <td>2.69</td>\n",
       "      <td>2.53</td>\n",
       "      <td>2.78</td>\n",
       "      <td>2.80</td>\n",
       "      <td>3.04</td>\n",
       "      <td>...</td>\n",
       "      <td>2.54</td>\n",
       "      <td>3.15</td>\n",
       "      <td>2.80</td>\n",
       "      <td>2.50</td>\n",
       "      <td>2.73</td>\n",
       "      <td>2.80</td>\n",
       "      <td>2.91</td>\n",
       "      <td>3.03</td>\n",
       "      <td>2.92</td>\n",
       "      <td>2.26</td>\n",
       "    </tr>\n",
       "    <tr>\n",
       "      <th>3</th>\n",
       "      <td>MATH+20F</td>\n",
       "      <td>2.82</td>\n",
       "      <td>3.45</td>\n",
       "      <td>2.64</td>\n",
       "      <td>2.28</td>\n",
       "      <td>2.64</td>\n",
       "      <td>2.80</td>\n",
       "      <td>3.47</td>\n",
       "      <td>3.17</td>\n",
       "      <td>2.71</td>\n",
       "      <td>...</td>\n",
       "      <td>3.34</td>\n",
       "      <td>2.82</td>\n",
       "      <td>2.41</td>\n",
       "      <td>2.53</td>\n",
       "      <td>3.17</td>\n",
       "      <td>2.63</td>\n",
       "      <td>2.26</td>\n",
       "      <td>2.82</td>\n",
       "      <td>2.95</td>\n",
       "      <td>2.76</td>\n",
       "    </tr>\n",
       "    <tr>\n",
       "      <th>4</th>\n",
       "      <td>COGS+1</td>\n",
       "      <td>2.75</td>\n",
       "      <td>2.41</td>\n",
       "      <td>3.01</td>\n",
       "      <td>2.96</td>\n",
       "      <td>2.76</td>\n",
       "      <td>3.04</td>\n",
       "      <td>2.91</td>\n",
       "      <td>2.41</td>\n",
       "      <td>3.31</td>\n",
       "      <td>...</td>\n",
       "      <td>3.05</td>\n",
       "      <td>3.04</td>\n",
       "      <td>2.83</td>\n",
       "      <td>2.87</td>\n",
       "      <td>2.92</td>\n",
       "      <td>2.57</td>\n",
       "      <td>2.54</td>\n",
       "      <td>2.33</td>\n",
       "      <td>3.24</td>\n",
       "      <td>2.50</td>\n",
       "    </tr>\n",
       "    <tr>\n",
       "      <th>5</th>\n",
       "      <td>COGS+14A</td>\n",
       "      <td>3.47</td>\n",
       "      <td>3.22</td>\n",
       "      <td>2.80</td>\n",
       "      <td>2.44</td>\n",
       "      <td>2.53</td>\n",
       "      <td>2.35</td>\n",
       "      <td>2.99</td>\n",
       "      <td>3.21</td>\n",
       "      <td>2.75</td>\n",
       "      <td>...</td>\n",
       "      <td>2.77</td>\n",
       "      <td>2.86</td>\n",
       "      <td>3.31</td>\n",
       "      <td>3.47</td>\n",
       "      <td>2.51</td>\n",
       "      <td>2.51</td>\n",
       "      <td>3.21</td>\n",
       "      <td>3.45</td>\n",
       "      <td>2.53</td>\n",
       "      <td>2.63</td>\n",
       "    </tr>\n",
       "    <tr>\n",
       "      <th>6</th>\n",
       "      <td>COGS+101A</td>\n",
       "      <td>2.95</td>\n",
       "      <td>2.44</td>\n",
       "      <td>3.20</td>\n",
       "      <td>3.16</td>\n",
       "      <td>3.18</td>\n",
       "      <td>2.59</td>\n",
       "      <td>2.76</td>\n",
       "      <td>2.58</td>\n",
       "      <td>2.79</td>\n",
       "      <td>...</td>\n",
       "      <td>2.95</td>\n",
       "      <td>2.88</td>\n",
       "      <td>2.39</td>\n",
       "      <td>3.16</td>\n",
       "      <td>3.40</td>\n",
       "      <td>3.21</td>\n",
       "      <td>2.83</td>\n",
       "      <td>3.16</td>\n",
       "      <td>2.51</td>\n",
       "      <td>3.25</td>\n",
       "    </tr>\n",
       "    <tr>\n",
       "      <th>7</th>\n",
       "      <td>COGS+102A</td>\n",
       "      <td>3.16</td>\n",
       "      <td>2.50</td>\n",
       "      <td>2.76</td>\n",
       "      <td>3.04</td>\n",
       "      <td>3.38</td>\n",
       "      <td>2.77</td>\n",
       "      <td>3.28</td>\n",
       "      <td>2.90</td>\n",
       "      <td>3.15</td>\n",
       "      <td>...</td>\n",
       "      <td>3.34</td>\n",
       "      <td>2.89</td>\n",
       "      <td>2.95</td>\n",
       "      <td>3.34</td>\n",
       "      <td>3.24</td>\n",
       "      <td>3.31</td>\n",
       "      <td>2.57</td>\n",
       "      <td>3.39</td>\n",
       "      <td>2.77</td>\n",
       "      <td>3.24</td>\n",
       "    </tr>\n",
       "    <tr>\n",
       "      <th>8</th>\n",
       "      <td>COGS+107A</td>\n",
       "      <td>2.71</td>\n",
       "      <td>2.70</td>\n",
       "      <td>2.46</td>\n",
       "      <td>2.51</td>\n",
       "      <td>2.95</td>\n",
       "      <td>2.88</td>\n",
       "      <td>2.53</td>\n",
       "      <td>2.53</td>\n",
       "      <td>3.33</td>\n",
       "      <td>...</td>\n",
       "      <td>2.89</td>\n",
       "      <td>2.82</td>\n",
       "      <td>2.39</td>\n",
       "      <td>3.19</td>\n",
       "      <td>2.88</td>\n",
       "      <td>2.69</td>\n",
       "      <td>2.63</td>\n",
       "      <td>2.77</td>\n",
       "      <td>2.80</td>\n",
       "      <td>3.05</td>\n",
       "    </tr>\n",
       "    <tr>\n",
       "      <th>9</th>\n",
       "      <td>CSE+7</td>\n",
       "      <td>2.80</td>\n",
       "      <td>2.77</td>\n",
       "      <td>3.08</td>\n",
       "      <td>3.05</td>\n",
       "      <td>2.28</td>\n",
       "      <td>2.66</td>\n",
       "      <td>2.66</td>\n",
       "      <td>2.72</td>\n",
       "      <td>3.01</td>\n",
       "      <td>...</td>\n",
       "      <td>2.46</td>\n",
       "      <td>3.16</td>\n",
       "      <td>2.68</td>\n",
       "      <td>2.63</td>\n",
       "      <td>2.62</td>\n",
       "      <td>2.50</td>\n",
       "      <td>2.57</td>\n",
       "      <td>2.50</td>\n",
       "      <td>2.91</td>\n",
       "      <td>2.62</td>\n",
       "    </tr>\n",
       "  </tbody>\n",
       "</table>\n",
       "<p>10 rows × 1001 columns</p>\n",
       "</div>"
      ],
      "text/plain": [
       "      course     0     1     2     3     4     5     6     7     8  ...   \\\n",
       "0   MATH+20A  2.70  2.96  2.60  2.62  2.58  2.79  2.95  2.88  2.91  ...    \n",
       "1   MATH+20B  2.72  2.54  3.28  2.80  2.54  2.33  2.96  2.92  2.53  ...    \n",
       "2   MATH+20C  2.96  2.76  2.77  2.45  2.69  2.53  2.78  2.80  3.04  ...    \n",
       "3   MATH+20F  2.82  3.45  2.64  2.28  2.64  2.80  3.47  3.17  2.71  ...    \n",
       "4     COGS+1  2.75  2.41  3.01  2.96  2.76  3.04  2.91  2.41  3.31  ...    \n",
       "5   COGS+14A  3.47  3.22  2.80  2.44  2.53  2.35  2.99  3.21  2.75  ...    \n",
       "6  COGS+101A  2.95  2.44  3.20  3.16  3.18  2.59  2.76  2.58  2.79  ...    \n",
       "7  COGS+102A  3.16  2.50  2.76  3.04  3.38  2.77  3.28  2.90  3.15  ...    \n",
       "8  COGS+107A  2.71  2.70  2.46  2.51  2.95  2.88  2.53  2.53  3.33  ...    \n",
       "9      CSE+7  2.80  2.77  3.08  3.05  2.28  2.66  2.66  2.72  3.01  ...    \n",
       "\n",
       "    990   991   992   993   994   995   996   997   998   999  \n",
       "0  3.21  2.86  2.53  2.50  3.17  2.88  3.67  2.96  2.53  3.53  \n",
       "1  2.23  2.81  2.83  2.62  3.02  3.21  2.91  2.53  3.21  2.53  \n",
       "2  2.54  3.15  2.80  2.50  2.73  2.80  2.91  3.03  2.92  2.26  \n",
       "3  3.34  2.82  2.41  2.53  3.17  2.63  2.26  2.82  2.95  2.76  \n",
       "4  3.05  3.04  2.83  2.87  2.92  2.57  2.54  2.33  3.24  2.50  \n",
       "5  2.77  2.86  3.31  3.47  2.51  2.51  3.21  3.45  2.53  2.63  \n",
       "6  2.95  2.88  2.39  3.16  3.40  3.21  2.83  3.16  2.51  3.25  \n",
       "7  3.34  2.89  2.95  3.34  3.24  3.31  2.57  3.39  2.77  3.24  \n",
       "8  2.89  2.82  2.39  3.19  2.88  2.69  2.63  2.77  2.80  3.05  \n",
       "9  2.46  3.16  2.68  2.63  2.62  2.50  2.57  2.50  2.91  2.62  \n",
       "\n",
       "[10 rows x 1001 columns]"
      ]
     },
     "execution_count": 25,
     "metadata": {},
     "output_type": "execute_result"
    }
   ],
   "source": [
    "gpaRanStudent = pd.DataFrame.from_dict(RanGpaStudents) #creates dataframe with 1000 random students grade distribution\n",
    "gpaRanStudent = gpaRanStudent.transpose() #turns rows into columns \n",
    "course = pd.DataFrame({'course': cogsMajor}) #creates dataframe for Cogs courses\n",
    "good_students = pd.concat([course,gpaRanStudent], axis = 1) # creates dataframe with 1000 random students for Cogs courses\n",
    "good_students"
   ]
  },
  {
   "cell_type": "markdown",
   "metadata": {},
   "source": [
    "Create a dataframe filled with 1000 random student GPAs from students who have taken a bad professor from 10 different courses."
   ]
  },
  {
   "cell_type": "code",
   "execution_count": 26,
   "metadata": {
    "collapsed": false
   },
   "outputs": [
    {
     "data": {
      "text/html": [
       "<div>\n",
       "<table border=\"1\" class=\"dataframe\">\n",
       "  <thead>\n",
       "    <tr style=\"text-align: right;\">\n",
       "      <th></th>\n",
       "      <th>course</th>\n",
       "      <th>0</th>\n",
       "      <th>1</th>\n",
       "      <th>2</th>\n",
       "      <th>3</th>\n",
       "      <th>4</th>\n",
       "      <th>5</th>\n",
       "      <th>6</th>\n",
       "      <th>7</th>\n",
       "      <th>8</th>\n",
       "      <th>...</th>\n",
       "      <th>990</th>\n",
       "      <th>991</th>\n",
       "      <th>992</th>\n",
       "      <th>993</th>\n",
       "      <th>994</th>\n",
       "      <th>995</th>\n",
       "      <th>996</th>\n",
       "      <th>997</th>\n",
       "      <th>998</th>\n",
       "      <th>999</th>\n",
       "    </tr>\n",
       "  </thead>\n",
       "  <tbody>\n",
       "    <tr>\n",
       "      <th>0</th>\n",
       "      <td>MATH+20A</td>\n",
       "      <td>2.80</td>\n",
       "      <td>2.60</td>\n",
       "      <td>2.70</td>\n",
       "      <td>2.53</td>\n",
       "      <td>2.68</td>\n",
       "      <td>3.13</td>\n",
       "      <td>2.66</td>\n",
       "      <td>2.88</td>\n",
       "      <td>2.75</td>\n",
       "      <td>...</td>\n",
       "      <td>3.13</td>\n",
       "      <td>2.65</td>\n",
       "      <td>2.65</td>\n",
       "      <td>2.85</td>\n",
       "      <td>2.63</td>\n",
       "      <td>2.77</td>\n",
       "      <td>2.75</td>\n",
       "      <td>2.72</td>\n",
       "      <td>3.62</td>\n",
       "      <td>3.29</td>\n",
       "    </tr>\n",
       "    <tr>\n",
       "      <th>1</th>\n",
       "      <td>MATH+20B</td>\n",
       "      <td>2.64</td>\n",
       "      <td>2.90</td>\n",
       "      <td>2.86</td>\n",
       "      <td>2.65</td>\n",
       "      <td>3.05</td>\n",
       "      <td>2.60</td>\n",
       "      <td>2.56</td>\n",
       "      <td>2.80</td>\n",
       "      <td>2.88</td>\n",
       "      <td>...</td>\n",
       "      <td>2.80</td>\n",
       "      <td>2.43</td>\n",
       "      <td>2.60</td>\n",
       "      <td>2.62</td>\n",
       "      <td>2.77</td>\n",
       "      <td>2.85</td>\n",
       "      <td>2.66</td>\n",
       "      <td>2.69</td>\n",
       "      <td>2.75</td>\n",
       "      <td>2.78</td>\n",
       "    </tr>\n",
       "    <tr>\n",
       "      <th>2</th>\n",
       "      <td>MATH+20C</td>\n",
       "      <td>2.87</td>\n",
       "      <td>2.47</td>\n",
       "      <td>3.21</td>\n",
       "      <td>2.68</td>\n",
       "      <td>2.34</td>\n",
       "      <td>2.66</td>\n",
       "      <td>3.10</td>\n",
       "      <td>3.13</td>\n",
       "      <td>2.47</td>\n",
       "      <td>...</td>\n",
       "      <td>2.45</td>\n",
       "      <td>2.41</td>\n",
       "      <td>2.73</td>\n",
       "      <td>2.74</td>\n",
       "      <td>2.63</td>\n",
       "      <td>2.77</td>\n",
       "      <td>2.32</td>\n",
       "      <td>2.76</td>\n",
       "      <td>2.74</td>\n",
       "      <td>3.50</td>\n",
       "    </tr>\n",
       "    <tr>\n",
       "      <th>3</th>\n",
       "      <td>MATH+20F</td>\n",
       "      <td>2.77</td>\n",
       "      <td>2.90</td>\n",
       "      <td>3.07</td>\n",
       "      <td>2.65</td>\n",
       "      <td>2.50</td>\n",
       "      <td>2.85</td>\n",
       "      <td>2.63</td>\n",
       "      <td>3.13</td>\n",
       "      <td>2.54</td>\n",
       "      <td>...</td>\n",
       "      <td>3.10</td>\n",
       "      <td>2.85</td>\n",
       "      <td>2.79</td>\n",
       "      <td>2.41</td>\n",
       "      <td>2.63</td>\n",
       "      <td>2.64</td>\n",
       "      <td>2.68</td>\n",
       "      <td>2.14</td>\n",
       "      <td>3.11</td>\n",
       "      <td>2.64</td>\n",
       "    </tr>\n",
       "    <tr>\n",
       "      <th>4</th>\n",
       "      <td>COGS+1</td>\n",
       "      <td>2.85</td>\n",
       "      <td>3.12</td>\n",
       "      <td>2.86</td>\n",
       "      <td>2.77</td>\n",
       "      <td>2.85</td>\n",
       "      <td>2.43</td>\n",
       "      <td>3.03</td>\n",
       "      <td>2.53</td>\n",
       "      <td>2.68</td>\n",
       "      <td>...</td>\n",
       "      <td>2.83</td>\n",
       "      <td>2.67</td>\n",
       "      <td>2.66</td>\n",
       "      <td>2.40</td>\n",
       "      <td>2.45</td>\n",
       "      <td>2.63</td>\n",
       "      <td>2.46</td>\n",
       "      <td>2.67</td>\n",
       "      <td>2.74</td>\n",
       "      <td>3.22</td>\n",
       "    </tr>\n",
       "    <tr>\n",
       "      <th>5</th>\n",
       "      <td>COGS+14A</td>\n",
       "      <td>3.33</td>\n",
       "      <td>3.11</td>\n",
       "      <td>2.76</td>\n",
       "      <td>2.32</td>\n",
       "      <td>3.11</td>\n",
       "      <td>2.65</td>\n",
       "      <td>2.69</td>\n",
       "      <td>2.66</td>\n",
       "      <td>2.36</td>\n",
       "      <td>...</td>\n",
       "      <td>2.45</td>\n",
       "      <td>3.11</td>\n",
       "      <td>3.26</td>\n",
       "      <td>2.40</td>\n",
       "      <td>2.79</td>\n",
       "      <td>3.55</td>\n",
       "      <td>3.13</td>\n",
       "      <td>2.19</td>\n",
       "      <td>2.71</td>\n",
       "      <td>2.99</td>\n",
       "    </tr>\n",
       "    <tr>\n",
       "      <th>6</th>\n",
       "      <td>COGS+101A</td>\n",
       "      <td>2.69</td>\n",
       "      <td>2.73</td>\n",
       "      <td>2.72</td>\n",
       "      <td>2.64</td>\n",
       "      <td>2.41</td>\n",
       "      <td>2.62</td>\n",
       "      <td>2.81</td>\n",
       "      <td>2.60</td>\n",
       "      <td>3.03</td>\n",
       "      <td>...</td>\n",
       "      <td>3.19</td>\n",
       "      <td>2.54</td>\n",
       "      <td>2.66</td>\n",
       "      <td>2.43</td>\n",
       "      <td>2.95</td>\n",
       "      <td>2.41</td>\n",
       "      <td>2.66</td>\n",
       "      <td>2.87</td>\n",
       "      <td>2.55</td>\n",
       "      <td>2.79</td>\n",
       "    </tr>\n",
       "    <tr>\n",
       "      <th>7</th>\n",
       "      <td>COGS+102A</td>\n",
       "      <td>2.85</td>\n",
       "      <td>2.68</td>\n",
       "      <td>2.88</td>\n",
       "      <td>2.32</td>\n",
       "      <td>2.84</td>\n",
       "      <td>2.62</td>\n",
       "      <td>2.92</td>\n",
       "      <td>3.55</td>\n",
       "      <td>3.11</td>\n",
       "      <td>...</td>\n",
       "      <td>2.70</td>\n",
       "      <td>1.94</td>\n",
       "      <td>2.68</td>\n",
       "      <td>3.11</td>\n",
       "      <td>2.45</td>\n",
       "      <td>2.66</td>\n",
       "      <td>2.79</td>\n",
       "      <td>3.33</td>\n",
       "      <td>2.70</td>\n",
       "      <td>3.04</td>\n",
       "    </tr>\n",
       "    <tr>\n",
       "      <th>8</th>\n",
       "      <td>COGS+107A</td>\n",
       "      <td>2.74</td>\n",
       "      <td>2.69</td>\n",
       "      <td>2.68</td>\n",
       "      <td>2.87</td>\n",
       "      <td>3.21</td>\n",
       "      <td>2.93</td>\n",
       "      <td>2.54</td>\n",
       "      <td>3.15</td>\n",
       "      <td>2.79</td>\n",
       "      <td>...</td>\n",
       "      <td>2.75</td>\n",
       "      <td>2.66</td>\n",
       "      <td>2.72</td>\n",
       "      <td>2.14</td>\n",
       "      <td>2.45</td>\n",
       "      <td>3.19</td>\n",
       "      <td>2.69</td>\n",
       "      <td>2.70</td>\n",
       "      <td>2.45</td>\n",
       "      <td>3.11</td>\n",
       "    </tr>\n",
       "    <tr>\n",
       "      <th>9</th>\n",
       "      <td>CSE+7</td>\n",
       "      <td>2.63</td>\n",
       "      <td>2.75</td>\n",
       "      <td>2.72</td>\n",
       "      <td>3.12</td>\n",
       "      <td>2.85</td>\n",
       "      <td>2.62</td>\n",
       "      <td>2.69</td>\n",
       "      <td>2.47</td>\n",
       "      <td>2.82</td>\n",
       "      <td>...</td>\n",
       "      <td>3.10</td>\n",
       "      <td>2.34</td>\n",
       "      <td>2.84</td>\n",
       "      <td>3.11</td>\n",
       "      <td>3.62</td>\n",
       "      <td>3.13</td>\n",
       "      <td>2.68</td>\n",
       "      <td>2.14</td>\n",
       "      <td>2.46</td>\n",
       "      <td>2.34</td>\n",
       "    </tr>\n",
       "  </tbody>\n",
       "</table>\n",
       "<p>10 rows × 1001 columns</p>\n",
       "</div>"
      ],
      "text/plain": [
       "      course     0     1     2     3     4     5     6     7     8  ...   \\\n",
       "0   MATH+20A  2.80  2.60  2.70  2.53  2.68  3.13  2.66  2.88  2.75  ...    \n",
       "1   MATH+20B  2.64  2.90  2.86  2.65  3.05  2.60  2.56  2.80  2.88  ...    \n",
       "2   MATH+20C  2.87  2.47  3.21  2.68  2.34  2.66  3.10  3.13  2.47  ...    \n",
       "3   MATH+20F  2.77  2.90  3.07  2.65  2.50  2.85  2.63  3.13  2.54  ...    \n",
       "4     COGS+1  2.85  3.12  2.86  2.77  2.85  2.43  3.03  2.53  2.68  ...    \n",
       "5   COGS+14A  3.33  3.11  2.76  2.32  3.11  2.65  2.69  2.66  2.36  ...    \n",
       "6  COGS+101A  2.69  2.73  2.72  2.64  2.41  2.62  2.81  2.60  3.03  ...    \n",
       "7  COGS+102A  2.85  2.68  2.88  2.32  2.84  2.62  2.92  3.55  3.11  ...    \n",
       "8  COGS+107A  2.74  2.69  2.68  2.87  3.21  2.93  2.54  3.15  2.79  ...    \n",
       "9      CSE+7  2.63  2.75  2.72  3.12  2.85  2.62  2.69  2.47  2.82  ...    \n",
       "\n",
       "    990   991   992   993   994   995   996   997   998   999  \n",
       "0  3.13  2.65  2.65  2.85  2.63  2.77  2.75  2.72  3.62  3.29  \n",
       "1  2.80  2.43  2.60  2.62  2.77  2.85  2.66  2.69  2.75  2.78  \n",
       "2  2.45  2.41  2.73  2.74  2.63  2.77  2.32  2.76  2.74  3.50  \n",
       "3  3.10  2.85  2.79  2.41  2.63  2.64  2.68  2.14  3.11  2.64  \n",
       "4  2.83  2.67  2.66  2.40  2.45  2.63  2.46  2.67  2.74  3.22  \n",
       "5  2.45  3.11  3.26  2.40  2.79  3.55  3.13  2.19  2.71  2.99  \n",
       "6  3.19  2.54  2.66  2.43  2.95  2.41  2.66  2.87  2.55  2.79  \n",
       "7  2.70  1.94  2.68  3.11  2.45  2.66  2.79  3.33  2.70  3.04  \n",
       "8  2.75  2.66  2.72  2.14  2.45  3.19  2.69  2.70  2.45  3.11  \n",
       "9  3.10  2.34  2.84  3.11  3.62  3.13  2.68  2.14  2.46  2.34  \n",
       "\n",
       "[10 rows x 1001 columns]"
      ]
     },
     "execution_count": 26,
     "metadata": {},
     "output_type": "execute_result"
    }
   ],
   "source": [
    "gpaRanStudent2 = pd.DataFrame.from_dict(RanGpaStudents2) #creates dataframe with 1000 random students grade distribution\n",
    "gpaRanStudent2 = gpaRanStudent2.transpose() #turns rows into columns \n",
    "course = pd.DataFrame({'course': cogsMajor}) #creates dataframe for Cogs courses\n",
    "bad_students = pd.concat([course,gpaRanStudent2], axis = 1) # creates dataframe with 1000 random students for Cogs courses\n",
    "bad_students"
   ]
  },
  {
   "cell_type": "markdown",
   "metadata": {},
   "source": [
    "Here, we find the random overall GPA of the bad professors students and the random overall GPA of the good prfoessors students. "
   ]
  },
  {
   "cell_type": "code",
   "execution_count": 27,
   "metadata": {
    "collapsed": false
   },
   "outputs": [],
   "source": [
    "bad_students_GPA = []\n",
    "good_students_GPA = []\n",
    "bad_students = bad_students.drop('course', 1)\n",
    "good_students = good_students.drop('course',1)\n",
    "\n",
    "get_random_overall_GPA(bad_students,bad_students_GPA)\n",
    "get_random_overall_GPA(good_students,good_students_GPA)"
   ]
  },
  {
   "cell_type": "code",
   "execution_count": 28,
   "metadata": {
    "collapsed": false
   },
   "outputs": [
    {
     "name": "stdout",
     "output_type": "stream",
     "text": [
      "0.749007866359 0.687630304777 1.65467241563 0.437212379434\n"
     ]
    }
   ],
   "source": [
    "myarray = np.asarray(bad_students_GPA)\n",
    "myarray2 = np.asarray(good_students_GPA)\n",
    "\n",
    "#normal test check\n",
    "s1, pv1 = stats.normaltest(myarray) \n",
    "s2, pv2 = stats.normaltest(myarray2)\n",
    "print(s1,pv1,s2,pv2)"
   ]
  },
  {
   "cell_type": "markdown",
   "metadata": {},
   "source": [
    "Assuming that p-value is 0.05, We know that good_students_GPA and bad_students_GPA are normally distributed because the p-value are way greater than 0.05"
   ]
  },
  {
   "cell_type": "markdown",
   "metadata": {},
   "source": [
    "We would want to do some hypothesis testing now. 2-sample t test is a good hypothesis test for the current data we have. \n",
    "*  Our null hypothesis is that the mean GPA in poorer rating professors' classes should be the same of the mean GPA in better rating professors's classes\n",
    "*  Our alternative hypothesis is that mean GPA in better rating professors's classes is higer(larger) than the mean GPA in poorer rating professors' classes"
   ]
  },
  {
   "cell_type": "code",
   "execution_count": 29,
   "metadata": {
    "collapsed": false
   },
   "outputs": [
    {
     "name": "stdout",
     "output_type": "stream",
     "text": [
      "ttest_ind:            t = -23.8379  p = 9.65096e-111\n"
     ]
    }
   ],
   "source": [
    "#If True, perform a standard independent 2 sample test that assumes equal population \n",
    "t, p = stats.ttest_ind(myarray, myarray2)\n",
    "print(\"ttest_ind:            t = %g  p = %g\" % (t, p))\n",
    "#print( np.std(bad_students_GPA), np.std(good_students_GPA) )"
   ]
  },
  {
   "cell_type": "markdown",
   "metadata": {},
   "source": [
    "Assuming that the significane value $\\alpha$ is 0.05. From the t-test result above, we know the p-value of 9.65096x10^-111 is smaller than $\\alpha$. That is, **we can reject our null hypothesis, and conclude that better rating professors tend to have higher GPA in the class.**"
   ]
  },
  {
   "cell_type": "markdown",
   "metadata": {},
   "source": [
    "Now, we want to test and see if there is a strong correlation between **studyHrs** and **recommended instructor rate**. We are going to use the linear regression testing method."
   ]
  },
  {
   "cell_type": "code",
   "execution_count": 30,
   "metadata": {
    "collapsed": false
   },
   "outputs": [
    {
     "data": {
      "image/png": "[encoded data removed]",
      "text/plain": [
       "<matplotlib.figure.Figure at 0x12268d4e0>"
      ]
     },
     "metadata": {},
     "output_type": "display_data"
    },
    {
     "name": "stdout",
     "output_type": "stream",
     "text": [
      "slope: 0.322328416815 intercept: 81.2531784139 r_value: 0.03759521981 p_value: 0.203261783083\n"
     ]
    }
   ],
   "source": [
    "#plot scatterplot between studyHrs and Instructor rate\n",
    "area = 10\n",
    "\n",
    "#plotting\n",
    "plt.scatter(dfT.studyHrs, dfT.rcmndInstructor, s=area, alpha=0.5)\n",
    "plt.title('Relationship between studyHrs and rcmndInstructor')\n",
    "plt.xlabel('studyHrs')\n",
    "plt.ylabel('rcmndInstructor in percentage')\n",
    "\n",
    "slope, intercept, r_value, p_value, std_err = stats.linregress(dfT.studyHrs,dfT.rcmndInstructor)\n",
    "abline_values = [slope * i + intercept for i in dfT.studyHrs]\n",
    "\n",
    "plt.plot(dfT.studyHrs, abline_values, 'b', c='red')\n",
    "plt.show()\n",
    "print (\"slope:\", slope, \"intercept:\", intercept, \"r_value:\", r_value, \"p_value:\", p_value)"
   ]
  },
  {
   "cell_type": "markdown",
   "metadata": {},
   "source": [
    "From the graph above, we don't really see any correlation between studyHrs and recommended instructor rate. The slope is 0.332, intercept is 81.25, p_value is 0.203. The r value (indicates correlation relationship) is very small that we cannot conclude any correlation between studyHrs and recommend instructor rate. "
   ]
  },
  {
   "cell_type": "markdown",
   "metadata": {},
   "source": [
    "Now, we want to test and see if there is a strong correlation between **AvgGradeReceived** and **rcmndInstructor**. We are going to use the linear regression testing method."
   ]
  },
  {
   "cell_type": "code",
   "execution_count": 31,
   "metadata": {
    "collapsed": false
   },
   "outputs": [
    {
     "data": {
      "image/png": "[encoded data removed]",
      "text/plain": [
       "<matplotlib.figure.Figure at 0x12270d748>"
      ]
     },
     "metadata": {},
     "output_type": "display_data"
    },
    {
     "name": "stdout",
     "output_type": "stream",
     "text": [
      "slope: 14.6905903096 intercept: 40.8653955725 r_value: 0.267051224746 p_value: 3.51045375805e-20\n"
     ]
    }
   ],
   "source": [
    "#plot scatterplot between GPA and Instructor rate\n",
    "area = 10\n",
    "\n",
    "#plotting\n",
    "plt.scatter(dfT.avgGradeReceived, dfT.rcmndInstructor, s=area, alpha=0.5)\n",
    "plt.title('Relationship between avgGradeReceived and rcmndInstructor')\n",
    "plt.xlabel('avgGradeReceived')\n",
    "plt.ylabel('rcmndInstructor in percentage')\n",
    "\n",
    "slope, intercept, r_value, p_value, std_err = stats.linregress(dfT.avgGradeReceived,dfT.rcmndInstructor)\n",
    "\n",
    "abline_values = [slope * i + intercept for i in dfT.avgGradeReceived]\n",
    "\n",
    "plt.plot(dfT.avgGradeReceived, abline_values, 'b', c='red')\n",
    "plt.show()\n",
    "print (\"slope:\", slope, \"intercept:\", intercept, \"r_value:\", r_value, \"p_value:\", p_value)"
   ]
  },
  {
   "cell_type": "markdown",
   "metadata": {},
   "source": [
    "From the graph above, we don't really see any correlation between avgGradeReceived and recommended instructor rate. The slope is 14.69, intercept is 40.87, p_value is 3.51 x 10^-20. The r value (indicates correlation relationship) is 0.267, smaller than 0.5. Because of this, we cannot conclude any correlation between studyHrs and recommend instructor rate. \n",
    "\n",
    "We are going to use the linear regression method to test the correlation between **average grade expected** and **recommended instructor**"
   ]
  },
  {
   "cell_type": "code",
   "execution_count": 32,
   "metadata": {
    "collapsed": false,
    "scrolled": false
   },
   "outputs": [
    {
     "data": {
      "image/png": "[encoded data removed]",
      "text/plain": [
       "<matplotlib.figure.Figure at 0x122a722b0>"
      ]
     },
     "metadata": {},
     "output_type": "display_data"
    },
    {
     "name": "stdout",
     "output_type": "stream",
     "text": [
      "slope: 29.4320171205 intercept: -14.6377897203 r_value: 0.371689521374 p_value: 6.81831649327e-39\n"
     ]
    }
   ],
   "source": [
    "#plot scatterplot between avgGradeExpected and rcmndInstructor\n",
    "area = 10\n",
    "\n",
    "#plotting\n",
    "plt.scatter(dfT.avgGradeExpected, dfT.rcmndInstructor, s=area, alpha=0.5)\n",
    "plt.title('Relationship between avgGradeExpected and rcmndInstructor')\n",
    "plt.xlabel('avgGradeExpected')\n",
    "plt.ylabel('rcmndInstructor')\n",
    "\n",
    "slope, intercept, r_value, p_value, std_err = stats.linregress(dfT.avgGradeExpected, dfT.rcmndInstructor)\n",
    "\n",
    "abline_values = [slope * i + intercept for i in dfT.avgGradeExpected]\n",
    "\n",
    "plt.plot(dfT.avgGradeExpected, abline_values, 'b', c='red')\n",
    "plt.show()\n",
    "print (\"slope:\", slope, \"intercept:\", intercept, \"r_value:\", r_value, \"p_value:\", p_value)"
   ]
  },
  {
   "cell_type": "markdown",
   "metadata": {},
   "source": [
    "From the graph above, we don't really see any correlation between avgGradeExpected and recommended instructor rate. The slope is 29.432, intercept is -14.64, p_value is 6.818 x 10^-39. The r value (indicates correlation relationship). The r value (indicates correlation relationship) is 0.372, smaller than 0.5. Because of this, we cannot conclude any correlation between studyHrs and recommend instructor rate. "
   ]
  },
  {
   "cell_type": "markdown",
   "metadata": {},
   "source": [
    "We are going to use the linear regression method to test the correlation between **average grade expected** and **recommended instructor**"
   ]
  },
  {
   "cell_type": "code",
   "execution_count": 33,
   "metadata": {
    "collapsed": false
   },
   "outputs": [
    {
     "data": {
      "image/png": "[encoded data removed]",
      "text/plain": [
       "<matplotlib.figure.Figure at 0x122b74860>"
      ]
     },
     "metadata": {},
     "output_type": "display_data"
    },
    {
     "name": "stdout",
     "output_type": "stream",
     "text": [
      "slope: -0.011991002211 intercept: 2.96853741678 r_value: -0.0769368125281 p_value: 0.00914268343018\n"
     ]
    }
   ],
   "source": [
    "#plot scatterplot between studyHrs and GPA\n",
    "area = 10\n",
    "\n",
    "#plotting\n",
    "plt.scatter(dfT.studyHrs, dfT.avgGradeReceived, s=area, alpha=0.5)\n",
    "plt.title('Relationship between studyHrs and avgGradeReceived')\n",
    "plt.xlabel('studyHrs')\n",
    "plt.ylabel('avgGradeReceived')\n",
    "\n",
    "slope, intercept, r_value, p_value, std_err = stats.linregress(dfT.studyHrs, dfT.avgGradeReceived)\n",
    "\n",
    "abline_values = [slope * i + intercept for i in dfT.studyHrs]\n",
    "\n",
    "plt.plot(dfT.studyHrs, abline_values, 'b', c='red')\n",
    "plt.show()\n",
    "\n",
    "print (\"slope:\", slope, \"intercept:\", intercept, \"r_value:\", r_value, \"p_value:\", p_value)"
   ]
  },
  {
   "cell_type": "markdown",
   "metadata": {},
   "source": [
    "From the graph above, we don't really see any correlation between studyHrs and avgGradeReceived. The slope is -0.012, intercept is 2.97, p_value is 0.009. The r value (indicates correlation relationship) is -0.077, smaller than 0.5. The correlation coefficient is extremely small. Because of this, we cannot conclude any correlation between studyHrs and recommend instructor rate. "
   ]
  },
  {
   "cell_type": "markdown",
   "metadata": {},
   "source": [
    "We are going to use the linear regression method to test the correlation between **average grade expected** and **study hours**"
   ]
  },
  {
   "cell_type": "code",
   "execution_count": 38,
   "metadata": {
    "collapsed": false
   },
   "outputs": [
    {
     "data": {
      "image/png": "[encoded data removed]",
      "text/plain": [
       "<matplotlib.figure.Figure at 0x122d7d940>"
      ]
     },
     "metadata": {},
     "output_type": "display_data"
    },
    {
     "name": "stdout",
     "output_type": "stream",
     "text": [
      "slope: -0.0341684914575 intercept: 3.54966862335 r_value: -0.315572789042 p_value: 6.13924581369e-28\n"
     ]
    }
   ],
   "source": [
    "#plot scatterplot between studyHrs and GPA\n",
    "area = 10\n",
    "\n",
    "#plotting\n",
    "plt.scatter(dfT.studyHrs, dfT.avgGradeExpected, s=area, alpha=0.5)\n",
    "plt.title('Relationship between studyHrs and avgGradeExpected')\n",
    "plt.xlabel('studyHrs')\n",
    "plt.ylabel('avgGradeExpected')\n",
    "\n",
    "slope, intercept, r_value, p_value, std_err = stats.linregress(dfT.studyHrs, dfT.avgGradeExpected)\n",
    "\n",
    "abline_values = [slope * i + intercept for i in dfT.studyHrs]\n",
    "\n",
    "plt.plot(dfT.studyHrs, abline_values, 'b', c='red')\n",
    "plt.show()\n",
    "\n",
    "print (\"slope:\", slope, \"intercept:\", intercept, \"r_value:\", r_value, \"p_value:\", p_value)"
   ]
  },
  {
   "cell_type": "markdown",
   "metadata": {},
   "source": [
    "From the graph above, we don't really see any correlation between avgGradeExpected and studyHrs. The slope is -0.0342, intercept is 3.55, p_value is 6.1392 x 10^-28. The r value (indicates correlation relationship) is -0.316, smaller than 0.5. Because of this, we cannot conclude any correlation between studyHrs and recommend instructor rate. "
   ]
  },
  {
   "cell_type": "markdown",
   "metadata": {},
   "source": [
    "We are going to use the linear regression method to test the correlation between **average grade expected** and **average grade received**"
   ]
  },
  {
   "cell_type": "code",
   "execution_count": 35,
   "metadata": {
    "collapsed": false
   },
   "outputs": [
    {
     "data": {
      "image/png": "[encoded data removed]",
      "text/plain": [
       "<matplotlib.figure.Figure at 0x122da2160>"
      ]
     },
     "metadata": {},
     "output_type": "display_data"
    },
    {
     "name": "stdout",
     "output_type": "stream",
     "text": [
      "slope: 17.4931442577 intercept: 30.8997396595 r_value: 0.442687604854 p_value: 3.10780946699e-56\n"
     ]
    }
   ],
   "source": [
    "#plot scatterplot between avgGradeExpected and avgGradeReceived\n",
    "area = 10\n",
    "\n",
    "#plotting\n",
    "plt.scatter(dfT.avgGradeExpected, dfT.rcmndClass, s=area, alpha=0.5)\n",
    "plt.title('Relationship between avgGradeExpected and rcmndClass')\n",
    "plt.xlabel('avgGradeExpected')\n",
    "plt.ylabel('rcmndClass')\n",
    "\n",
    "slope, intercept, r_value, p_value, std_err = stats.linregress(dfT.avgGradeExpected, dfT.rcmndClass)\n",
    "\n",
    "abline_values = [slope * i + intercept for i in dfT.avgGradeExpected]\n",
    "\n",
    "plt.plot(dfT.avgGradeExpected, abline_values, 'b', c='red')\n",
    "plt.show()\n",
    "\n",
    "print (\"slope:\", slope, \"intercept:\", intercept, \"r_value:\", r_value, \"p_value:\", p_value)"
   ]
  },
  {
   "cell_type": "markdown",
   "metadata": {},
   "source": [
    "From the graph above, we don't really see any correlation between avgGradeExpected and recommended class rate. The slope is 17.49, intercept is 30.8997, p_value is 3.1078 x 10^-56.The r value (indicates correlation relationship) is 0.443, smaller than 0.5. Because of this, we cannot conclude any correlation between studyHrs and recommend instructor rate. "
   ]
  },
  {
   "cell_type": "markdown",
   "metadata": {},
   "source": [
    "We are going to use the linear regression method to test the correlation between **average grade expected** and **recommended class**"
   ]
  },
  {
   "cell_type": "code",
   "execution_count": 36,
   "metadata": {
    "collapsed": false
   },
   "outputs": [
    {
     "data": {
      "image/png": "[encoded data removed]",
      "text/plain": [
       "<matplotlib.figure.Figure at 0x122ea6668>"
      ]
     },
     "metadata": {},
     "output_type": "display_data"
    },
    {
     "name": "stdout",
     "output_type": "stream",
     "text": [
      "slope: 0.269526927204 intercept: 66.6700580314 r_value: 0.540096489228 p_value: 7.70809343304e-88\n"
     ]
    }
   ],
   "source": [
    "#plot scatterplot between avgGradeExpected and rcmndClass\n",
    "area = 10\n",
    "\n",
    "#plotting\n",
    "plt.scatter( dfT.rcmndInstructor, dfT.rcmndClass, s=area, alpha=0.5)\n",
    "plt.title('Relationship between rcmndClass and rcmndInstructor')\n",
    "plt.xlabel('rcmndInstructor')\n",
    "plt.ylabel('rcmndClass')\n",
    "\n",
    "slope, intercept, r_value, p_value, std_err = stats.linregress( dfT.rcmndInstructor,dfT.rcmndClass)\n",
    "\n",
    "abline_values = [slope * i + intercept for i in dfT.rcmndInstructor]\n",
    "\n",
    "plt.plot(dfT.rcmndInstructor, abline_values, 'b', c='red')\n",
    "plt.show()\n",
    "print (\"slope:\", slope, \"intercept:\", intercept, \"r_value:\", r_value, \"p_value:\", p_value)"
   ]
  },
  {
   "cell_type": "markdown",
   "metadata": {},
   "source": [
    "From the graph above, we see a correlation between recommended class and recommended instructor rate. The slope is 0.26953, intercept is 66.67, p_value is 7.7081 x 10^-88. The r value (indicates correlation relationship) is 0.54, greater than 0.5. Because of this, we can conclude a correlation between studyHrs and recommend instructor rate. From the graph above, it The higher the recommended class rate, the higher the recommended instructore rate. "
   ]
  },
  {
   "cell_type": "markdown",
   "metadata": {},
   "source": [
    "## Conclusions/Discussion\n"
   ]
  },
  {
   "cell_type": "markdown",
   "metadata": {},
   "source": [
    "When it just comes to COGS majors, choosing a more lenient professor may help get you a higher GPA. **Having professors who grade evenly across the board will provide a fairer chance for everyone.** As opposed to having students hunt for professors who are more lenient with the gradebooks, students should have an equal chance in getting the same GPAs that doesn't rely on different types of professor grading habits. \n",
    "\n",
    "In othe findings, the t-test above on the correlation between professor ratings and GPA proved significant. We got the p-value of 9.65096x10^-111, which is smaller than the significane value  αα, 0.05. Ultimately, we can reject our null hypothesis, and conclude that better rating professors tend to have higher GPA in the class. **From the t-test, we gathered that students who take professors with a higher recommendation percentage tend to have higher grades.** \n",
    "\n",
    "Most correlations such as stdyHrs and avgGradeExpected or avgGradeReceived are too weak to make an accurate prediction. The only noticable correlation was rcmndClass and rcmndInstructor. These two values have a good deal of correlation and can predict one another. Recommending class and instructor usually goes hand in hand."
   ]
  }
 ],
 "metadata": {
  "kernelspec": {
   "display_name": "Python 3",
   "language": "python",
   "name": "python3"
  },
  "language_info": {
   "codemirror_mode": {
    "name": "ipython",
    "version": 3
   },
   "file_extension": ".py",
   "mimetype": "text/x-python",
   "name": "python",
   "nbconvert_exporter": "python",
   "pygments_lexer": "ipython3",
   "version": "3.6.0"
  }
 },
 "nbformat": 4,
 "nbformat_minor": 2
}
