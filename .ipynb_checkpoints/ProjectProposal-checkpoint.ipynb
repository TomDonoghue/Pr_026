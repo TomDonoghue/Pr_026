{
 "cells": [
  {
   "cell_type": "markdown",
   "metadata": {},
   "source": [
    "# COGS 108 - Assignment 4: Project Proposal"
   ]
  },
  {
   "cell_type": "markdown",
   "metadata": {},
   "source": [
    "## Important\n",
    "\n",
    "- Make sure all group member (3-5 people) are listed in the group members section.\n",
    "- ONE, and only one, member of your group should upload this notebook to TritonED. \n",
    "- Each member of the group will receive the same grade on this assignment. \n",
    "- Keep the file name the same: submit the file 'A4_ProjectProposal.ipynb'"
   ]
  },
  {
   "cell_type": "markdown",
   "metadata": {},
   "source": [
    "## Overview"
   ]
  },
  {
   "cell_type": "markdown",
   "metadata": {},
   "source": [
    "Read the project description, and detailed instructions for this assignment, in the 'A4_ProjectOutlineAndProposal' pdf."
   ]
  },
  {
   "cell_type": "markdown",
   "metadata": {},
   "source": [
    "## Group Members: Fill in the Student ID's of each group member here\n",
    "- A12012095\n",
    "- A12961177\n",
    "- A11186574\n",
    "- A12462782"
   ]
  },
  {
   "cell_type": "markdown",
   "metadata": {},
   "source": [
    "### Research Question\n",
    "\n",
    "What is your research question? (1-2 sentences)"
   ]
  },
  {
   "cell_type": "markdown",
   "metadata": {},
   "source": [
    "What is the disparity between students, in cumulative GPA, that take professors with lower grade distributions (compared to professor with higher grade distribution) and how does this disparity differ between majors?"
   ]
  },
  {
   "cell_type": "markdown",
   "metadata": {},
   "source": [
    "### Hypothesis\n",
    "\n",
    "What is your prediction (2-3 sentences)"
   ]
  },
  {
   "cell_type": "markdown",
   "metadata": {},
   "source": [
    "We predict that there will be a disparity of =>0.50 in overall GPA between the students that took professors with lower grade distribution compared to students that took professors with higher grade distributions. "
   ]
  },
  {
   "cell_type": "markdown",
   "metadata": {},
   "source": [
    "### Dataset(s)\n",
    "\n",
    "What data will you use to answer your question? Describe the dataset in terms of number of observations, what kind of features it contains, etc. You must use at least one dataset containing at least approximately 1000 observations (if your data are smaller but you feel they are sufficient, email Prof. Voytek). You are welcome (and in fact recommended) to find multiple datasets! If you do so, describe each one, and briefly explain how you will combine them together. "
   ]
  },
  {
   "cell_type": "markdown",
   "metadata": {},
   "source": [
    "*Fill in your dataset information here*\n",
    "\n",
    "(Copy this information for each dataset)\n",
    "- Dataset Name: Cape Evaluations \n",
    "- Link to the dataset: https://cape.ucsd.edu/responses/Results.aspx\n",
    "- Number of observations: 1000+\n",
    "\n",
    "1-2 sentences describing the dataset. \n",
    "\n",
    "This dataset has grade distributions for various classes among multiple disciplines at UCSD from Spring quarter 2007 until the present(Spring Quarter 2017).\n",
    "\n",
    "If you plan to use multiple datasets, add 1-2 sentences about how you plan to combine these datasets.\n"
   ]
  },
  {
   "cell_type": "markdown",
   "metadata": {},
   "source": [
    "### Background & Prior Work\n",
    "\n",
    "Why is this question of interest, what background information led you to your hypothesis, and why is this important?\n",
    "\n",
    "Find some relevant prior work, and reference them. Even if you think you have a totally novel question, find the most similar prior work you can, and discuss how it relates to your project. \n",
    "\n",
    "References can be research publications, but they need not be: blogs, github repositories, company websites, etc., are viable references if they are relevant to your project.\n",
    "\n",
    "(2-3 paragraphs, including at least 2 references)"
   ]
  },
  {
   "cell_type": "markdown",
   "metadata": {},
   "source": [
    " With grade inflation becoming a growing problem between public and private school we were interested in taking a closer look to see what may be happening within a school. As students, we often hear advice on which professor to take for a certain class because the chances of getting a good grade are higher. For many students at UCSD, who plan to pursue careers that involve more education or careers in their subject’s job market, GPA is an important factor to look competitive in these fields. This leads students to wait for a class to be taught by a certain professor in order to boost their transcripts and have a higher chance at success. This leads us to our question: what would be the difference in GPA between students that happen to take professors with lower grade distributions relative to their fellow professors?\n",
    "    If we are able to find a large enough disparity between these students, what would be our call to action? Furthermore, what might this reflect on the way classes are being taught, not only at UCSD but at other Universities? As our reference allude to, just because are getting higher grades does not imply that students are performing higher or learning more. The growing competition to get into medical school, grad school, or other competitive career fields incentives students to pursue a higher grade over leaving college with technical skills and knowledge. Also, are the classes with higher distribution, are they not challenging students as much or do they provide a better teaching environment? \n",
    "\n",
    "Referencess (include a link):\n",
    "- 1)https://www.insidehighered.com/news/2016/03/29/survey-finds-grade-inflation-continues-rise-four-year-colleges-not-community-college\n",
    "- 2)https://www.theatlantic.com/education/archive/2015/01/same-performance-better-grades/384447/\n"
   ]
  },
  {
   "cell_type": "markdown",
   "metadata": {},
   "source": [
    "### Proposed Methods\n",
    "\n",
    "What methods will you use to analyze your data?\n",
    "\n",
    "- How 'clean' is the data? To the extent that it requires cleaning, how will you do so?\n",
    "- How will you analyze the data? Be as specific as you can. Briefly mention any pre-processing steps that are required for your methods (for example, checking data distributions and performing any transformations that may be required). Include a brief outline of how you will apply your chosen method(s). \n",
    "- What do you plan to report? Briefly mention any key visualizations you plan to create, and/or the kind of result you will be able to report that addresses your question (this could be, for example, the outcome of some statistical test(s), prediction error on a model, a model fit parameter, etc.).\n",
    "- Include a list of packages you expect to use for you project. If you plan to use packages we have not used in class, add a very brief description about them (a few words is sufficient). "
   ]
  },
  {
   "cell_type": "markdown",
   "metadata": {},
   "source": [
    "*Fill in your proposed methods information here:*\n",
    "\n",
    "*Data Cleaning (2-3 sentences)*\n",
    "We will be taking out data in which less than thirty percent of students made an evaluation of the class because the evaluations are not representative of the rest of the class. We will also be taking out when the grades received is not available. \n",
    "\n",
    "*Data Analysis (1-2 paragraphs)*\n",
    "    We will be using the beautiful soup library to scrap through the different categories that are given with evaluations. The categories that will be most important for our research will be Instructor, Course, Term, Rcmnd Instr Study Hrs/wk, and Avg Grade Received. With this data we will be able to track changes in student GPA for the last ten years. By comparing different students across different professor taken at different times we will be able to analyze any changes between professors as well as pick up on any trends that are happening within a certain department. By tracking the changes across multiple departments (to have an accurate representation of what is happening campus wide) we can compare how changes at UCSD agree or disagree with national trends. We will also compare the amount of study hours between the courses taught by professors of the same department, this will serve as an indicator on how rigorous classes may be, which may point to the differences in grade distributions. \n",
    "   Outline:\n",
    "  -Assigning GPA values by professor (by the classes taught by professor)\n",
    "  -Comparing GPA values of professors\n",
    "  -Assign study hrs/wk to professor (made from avg of study hrs/week for classes taught by professor)\n",
    "  -Compare the study hrs between professors \n",
    "  -Analyze changes within a department within the ten year period\n",
    "  -Compare changes between department and between the changes in GPA to other public and private universities \n",
    "\n",
    "*What to report (2-3 sentences)*\n",
    "We want to see the difference between students that take professors with higher grade distributions and professors with lower grade distributions. Bar graphs can visually represent the differences in GPA between students that have taken various distributions of \"high-grading\" professor and \"low-grading\" professors\n",
    "\n",
    "Packages we plan to use:\n",
    "- a: beautiful soup- python library to scrap data\n",
    "- b: pandas \n",
    "- c: numpy"
   ]
  },
  {
   "cell_type": "markdown",
   "metadata": {},
   "source": [
    "### Discussion\n",
    "\n",
    "What are the pitfalls and potential confounds of your data and/or methods? For example, how might biases in your data sources or analyses influence your interpretations? What will you do if you methods don't work and/or your hypotheses are wrong?\n",
    "\n",
    "(2-3 paragraphs)\n"
   ]
  },
  {
   "cell_type": "markdown",
   "metadata": {},
   "source": [
    "*Fill in your discussion information here*\n",
    "\n",
    "Our data only captures the grade distribution of the class; however it does not reflect the work ethic of students. Some class may have higher grade distributions during certain quarter because students may had better work habits or might have been more motivated because of the quarter. The classes that students chose to take might demand more study hours because how demanding the subject might be. We will not be able to include classes that have missing grade distribution which could potentially have crucial data to analyze the change in distributions over time. A key pitfall could lie in the amount of departments we choose to analyze. In order to get an accurate representation of how grades change in time at UCSD we must make sure that we chose, at least, the minimum amount of departments at UCSD. If we have too little, we could potentially have biased data that shows an inaccurate picture of grade distributions at UCSD. \n",
    "    If our hypothesis is wrong then it would mean that a student could take their courses without having to worry too much about their GPA affected too severely. However, our hypothesis is searching for a .5 difference in GPA, which might not be the most realistic number to use. We would continue to lower to number to see if an actual difference exists. Once we found the actual difference then we could compare those numbers across departments to check if there are similar results throughout the campus. If the difference within and between departments are too small then we would conclude that the effect is too small to make an actual difference in a student's GPA. We would have to do further research to determine why grade inflation is happening on other campuses and why UCSD might be an outlier to the national trend."
   ]
  }
 ],
 "metadata": {
  "kernelspec": {
   "display_name": "Python 3",
   "language": "python",
   "name": "python3"
  },
  "language_info": {
   "codemirror_mode": {
    "name": "ipython",
    "version": 3
   },
   "file_extension": ".py",
   "mimetype": "text/x-python",
   "name": "python",
   "nbconvert_exporter": "python",
   "pygments_lexer": "ipython3",
   "version": "3.6.0"
  }
 },
 "nbformat": 4,
 "nbformat_minor": 2
}
